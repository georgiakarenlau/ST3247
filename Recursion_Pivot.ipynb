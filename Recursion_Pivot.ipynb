{
 "cells": [
  {
   "cell_type": "code",
   "execution_count": 21,
   "id": "5635ba83-6d4e-4f5b-93f7-7083f8f0b22b",
   "metadata": {},
   "outputs": [],
   "source": [
    "import numpy as np\n",
    "from numba import njit, prange\n",
    "import time\n",
    "from scipy.stats import linregress\n",
    "import cupy as cp"
   ]
  },
  {
   "cell_type": "markdown",
   "id": "675f6979-5722-4c5e-8e5e-b87b4fff3953",
   "metadata": {},
   "source": [
    "# NUMBA"
   ]
  },
  {
   "cell_type": "code",
   "execution_count": 22,
   "id": "98d11592-03ad-419b-baa4-1aa74ef6b438",
   "metadata": {},
   "outputs": [],
   "source": [
    "TRANSFORMATIONS = np.array([\n",
    "    [[0, -1], [1, 0]],     # 90° Rotation\n",
    "    [[-1, 0], [0, -1]],    # 180° Rotation\n",
    "    [[0, 1], [-1, 0]],     # 270° Rotation\n",
    "    [[1, 0], [0, -1]],     # Reflection x-axis\n",
    "    [[-1, 0], [0, 1]],     # Reflection y-axis\n",
    "    [[0, 1], [1, 0]],      # Reflection x=y\n",
    "    [[0, -1], [-1, 0]],    # Reflection x=-y\n",
    "], dtype=np.float64)\n",
    "\n",
    "@njit\n",
    "def initialize_saws(L):\n",
    "    saws = np.zeros((4, L+1, 2), dtype=np.float64)\n",
    "    for i in range(L+1):\n",
    "        saws[0, i] = [0, i]     # Up\n",
    "        saws[1, i] = [0, -i]    # Down\n",
    "        saws[2, i] = [i, 0]     # Right\n",
    "        saws[3, i] = [-i, 0]    # Left\n",
    "    return saws\n",
    "\n",
    "@njit\n",
    "def apply_transformation(walk, pivot_index, transformation_matrix):\n",
    "    new_walk = walk.copy()\n",
    "    pivot_point = walk[pivot_index]\n",
    "    for i in range(pivot_index + 1, len(walk)):\n",
    "        rel = walk[i] - pivot_point\n",
    "        new_walk[i] = (transformation_matrix @ rel) + pivot_point\n",
    "    return new_walk\n",
    "\n",
    "@njit\n",
    "def check_self_avoidance(walk):\n",
    "    seen = set()\n",
    "    for i in range(walk.shape[0]):\n",
    "        key = (int(walk[i, 0]), int(walk[i, 1]))\n",
    "        if key in seen:\n",
    "            return False\n",
    "        seen.add(key)\n",
    "    return True\n",
    "\n",
    "@njit(parallel=True)\n",
    "def monte_carlo_parallel(num_samples, L):\n",
    "    saws = initialize_saws(L)\n",
    "    samples = np.zeros((num_samples, L+1, 2), dtype=np.float64)\n",
    "    # pivots = np.full(num_samples, -1, dtype=np.int32)  # default -1 = initial\n",
    "    # transformations = np.full(num_samples, -1, dtype=np.int32)  # default -1 = initial\n",
    "\n",
    "    per_chain = num_samples // 4\n",
    "\n",
    "    for chain in prange(4):\n",
    "        current_walk = saws[chain].copy()\n",
    "        count = 0\n",
    "        index_base = chain * per_chain\n",
    "\n",
    "        samples[index_base + count] = current_walk\n",
    "        # pivots[index_base + count] = -1\n",
    "        # transformations[index_base + count] = -1\n",
    "        count += 1\n",
    "\n",
    "        while count < per_chain:\n",
    "            pivot = np.random.randint(1, L)\n",
    "            t_idx = np.random.randint(0, len(TRANSFORMATIONS))\n",
    "            T = TRANSFORMATIONS[t_idx]\n",
    "            transformed_walk = apply_transformation(current_walk, pivot, T)\n",
    "\n",
    "            if check_self_avoidance(transformed_walk):\n",
    "                current_walk = transformed_walk\n",
    "                samples[index_base + count] = current_walk\n",
    "                # pivots[index_base + count] = pivot\n",
    "                # transformations[index_base + count] = t_idx\n",
    "                count += 1\n",
    "\n",
    "    return samples"
   ]
  },
  {
   "cell_type": "code",
   "execution_count": 23,
   "id": "567f756e-d784-48af-8e26-6bd30409236e",
   "metadata": {},
   "outputs": [],
   "source": [
    "@njit\n",
    "def concatenate_saws(walk1, walk2):\n",
    "    \"\"\"Translate walk2 so that it starts where walk1 ends, then concatenate.\"\"\"\n",
    "    endpoint = walk1[-1]  # Get the last point of walk1\n",
    "    translation_vector = endpoint - walk2[0]  # Calculate how much to shift walk2\n",
    "    translated_walk2 = walk2 + translation_vector  # Apply the shift\n",
    "\n",
    "    # Concatenate the translated second walk onto the first\n",
    "    concatenated_walk = np.vstack((walk1, translated_walk2[1:]))\n",
    "\n",
    "    return concatenated_walk"
   ]
  },
  {
   "cell_type": "code",
   "execution_count": 24,
   "id": "8187661c-b46a-4d4a-8930-fadb5b873c1a",
   "metadata": {},
   "outputs": [],
   "source": [
    "@njit(parallel = True)\n",
    "def compute_B(samples):\n",
    "    \"\"\"Estimate B(L1, L2) by checking valid concatenations of independent SAWs.\"\"\"\n",
    "    valid = 0\n",
    "    N = len(samples)\n",
    "    total = N**2  # Include self-pairing cases\n",
    "\n",
    "    for i in prange(N):\n",
    "        for j in range(N):  # Every walk can pair with every other walk, including itself\n",
    "            concatenated = concatenate_saws(samples[i], samples[j])\n",
    "            if check_self_avoidance(concatenated):\n",
    "                valid += 1\n",
    "\n",
    "    return valid / total"
   ]
  },
  {
   "cell_type": "code",
   "execution_count": 25,
   "id": "d88d3e06-c1cf-4248-b2d0-d7dd6f77b526",
   "metadata": {},
   "outputs": [],
   "source": [
    "@njit(parallel = True)\n",
    "def recursive(initial_L, initial_c_L, iterations, N):\n",
    "    L = initial_L\n",
    "    cL = initial_c_L\n",
    "    count = 1\n",
    "\n",
    "    Ls = np.zeros(iterations+1, dtype = np.float64)\n",
    "    cLs = np.zeros(iterations+1, dtype = np.float64)\n",
    "\n",
    "    Ls[0] = L\n",
    "    cLs[0] = cL\n",
    "    \n",
    "    while count <= iterations:\n",
    "        samples = monte_carlo_parallel(N, L)\n",
    "        proportion = compute_B(samples)\n",
    "        cL = proportion * (cL ** 2)\n",
    "        L = 2*L\n",
    "        \n",
    "        Ls[count] = L\n",
    "        cLs[count] = cL\n",
    "        count += 1\n",
    "    return cLs, Ls"
   ]
  },
  {
   "cell_type": "code",
   "execution_count": 27,
   "id": "ade033d0-b677-4528-a79d-3d4bda05057d",
   "metadata": {},
   "outputs": [],
   "source": [
    "def estimate_mu(Ls, cLs):\n",
    "    x = 1/Ls\n",
    "    y = np.log(cLs) / Ls\n",
    "\n",
    "    slope, intercept, r_val, p_val, std_err = linregress(x,y)\n",
    "\n",
    "    mu = np.exp(intercept)\n",
    "    return mu"
   ]
  },
  {
   "cell_type": "code",
   "execution_count": 26,
   "id": "846bbf06-27e7-4c47-b936-b2aca33ec993",
   "metadata": {},
   "outputs": [],
   "source": [
    "@njit(parallel = True)\n",
    "def large_recursive(initial_L, initial_c_L, iterations, N):\n",
    "    L = initial_L\n",
    "    log_cL = np.log(initial_c_L)\n",
    "    count = 1\n",
    "\n",
    "    Ls = np.zeros(iterations+1, dtype = np.float64)\n",
    "    cLs = np.zeros(iterations+1, dtype = np.float64)\n",
    "\n",
    "    Ls[0] = L\n",
    "    cLs[0] = log_cL\n",
    "    \n",
    "    while count <= iterations:\n",
    "        samples = monte_carlo_parallel(N, L)\n",
    "        proportion = compute_B(samples)\n",
    "        log_cL = np.log(proportion) +  (2 * log_cL)\n",
    "        L = 2*L\n",
    "        \n",
    "        Ls[count] = L\n",
    "        cLs[count] = log_cL\n",
    "        count += 1\n",
    "    return cLs, Ls"
   ]
  },
  {
   "cell_type": "code",
   "execution_count": 32,
   "id": "5093e184-2fc1-4b83-85be-673f77825c11",
   "metadata": {},
   "outputs": [],
   "source": [
    "def ln_estimate_mu(Ls, log_cLs):\n",
    "    x = 1/Ls\n",
    "    y = log_cLs / Ls\n",
    "\n",
    "    slope, intercept, r_val, p_val, std_err = linregress(x,y)\n",
    "\n",
    "    mu = np.exp(intercept)\n",
    "    return mu"
   ]
  },
  {
   "cell_type": "code",
   "execution_count": 16,
   "id": "d179aa39-9f22-4f05-b083-c1721f49a117",
   "metadata": {},
   "outputs": [],
   "source": [
    "cLs, Ls = recursive(20, 897697164, 7, 10**4)"
   ]
  },
  {
   "cell_type": "code",
   "execution_count": 17,
   "id": "d68c27d1-c967-49b4-9640-91437b0413b1",
   "metadata": {},
   "outputs": [
    {
     "data": {
      "text/plain": [
       "array([8.97697164e+008, 3.02067541e+017, 2.81685551e+034, 1.97789968e+068,\n",
       "       7.54999177e+135, 9.07107193e+270,             inf,             inf])"
      ]
     },
     "execution_count": 17,
     "metadata": {},
     "output_type": "execute_result"
    }
   ],
   "source": [
    "cLs"
   ]
  },
  {
   "cell_type": "code",
   "execution_count": 18,
   "id": "6ade7e1a-1865-4399-a5bf-e9f9c9652bef",
   "metadata": {},
   "outputs": [
    {
     "data": {
      "text/plain": [
       "array([  20.,   40.,   80.,  160.,  320.,  640., 1280., 2560.])"
      ]
     },
     "execution_count": 18,
     "metadata": {},
     "output_type": "execute_result"
    }
   ],
   "source": [
    "Ls"
   ]
  },
  {
   "cell_type": "code",
   "execution_count": 22,
   "id": "61a4993a-39a1-4937-ae7a-7594aab57350",
   "metadata": {},
   "outputs": [
    {
     "data": {
      "text/plain": [
       "(array([8.97697164e+008, 3.02067541e+017, 2.81685551e+034, 1.97789968e+068,\n",
       "        7.54999177e+135, 9.07107193e+270]),\n",
       " array([ 20.,  40.,  80., 160., 320., 640.]))"
      ]
     },
     "execution_count": 22,
     "metadata": {},
     "output_type": "execute_result"
    }
   ],
   "source": [
    "cLs[:6], Ls[:6]"
   ]
  },
  {
   "cell_type": "code",
   "execution_count": 25,
   "id": "6fc6c7b1-a3a5-4dd7-8334-b7575ac15641",
   "metadata": {},
   "outputs": [
    {
     "data": {
      "text/plain": [
       "np.float64(2.651804267998532)"
      ]
     },
     "execution_count": 25,
     "metadata": {},
     "output_type": "execute_result"
    }
   ],
   "source": [
    "estimate_mu(Ls[:6], cLs[:6])"
   ]
  },
  {
   "cell_type": "code",
   "execution_count": 28,
   "id": "f3890d17-47fb-4272-bda5-021f1ff9c140",
   "metadata": {},
   "outputs": [],
   "source": [
    "log_cLs, Ls = large_recursive(20, 897697164, 7, 10**4)"
   ]
  },
  {
   "cell_type": "code",
   "execution_count": 29,
   "id": "3dfdc842-1c8d-4d0f-aba2-b5931110eaba",
   "metadata": {},
   "outputs": [],
   "source": [
    "# 2044 seconds ^"
   ]
  },
  {
   "cell_type": "code",
   "execution_count": 30,
   "id": "ffa9520d-76de-4950-9bed-98547133df98",
   "metadata": {},
   "outputs": [
    {
     "data": {
      "text/plain": [
       "array([  20.61534334,   40.23167072,   79.28838392,  157.13976894,\n",
       "        312.62346889,  623.29698943, 1244.34364318, 2486.47603756])"
      ]
     },
     "execution_count": 30,
     "metadata": {},
     "output_type": "execute_result"
    }
   ],
   "source": [
    "log_cLs"
   ]
  },
  {
   "cell_type": "code",
   "execution_count": 33,
   "id": "a6c80fb3-5331-4525-8d19-945876f488c8",
   "metadata": {},
   "outputs": [
    {
     "data": {
      "text/plain": [
       "np.float64(2.646086666480796)"
      ]
     },
     "execution_count": 33,
     "metadata": {},
     "output_type": "execute_result"
    }
   ],
   "source": [
    "ln_estimate_mu(Ls, log_cLs)"
   ]
  },
  {
   "cell_type": "markdown",
   "id": "7fe0a002-e34a-4386-a5f2-4b1961db40e1",
   "metadata": {},
   "source": [
    "# CuPy"
   ]
  },
  {
   "cell_type": "code",
   "execution_count": 34,
   "id": "d309cd86-7b69-4d76-ae53-1337925de4fd",
   "metadata": {},
   "outputs": [],
   "source": [
    "import cupy as cp\n",
    "\n",
    "TRANSFORMATIONS = cp.array([\n",
    "    [[0, -1], [1, 0]],     # 90° Rotation\n",
    "    [[-1, 0], [0, -1]],    # 180° Rotation\n",
    "    [[0, 1], [-1, 0]],     # 270° Rotation\n",
    "    [[1, 0], [0, -1]],     # Reflection x-axis\n",
    "    [[-1, 0], [0, 1]],     # Reflection y-axis\n",
    "    [[0, 1], [1, 0]],      # Reflection x=y\n",
    "    [[0, -1], [-1, 0]],    # Reflection x=-y\n",
    "], dtype=cp.float64)\n",
    "\n",
    "def monte_carlo_parallel_gpu(num_samples, L):\n",
    "    \"\"\"Generate SAW samples using CuPy on GPU.\"\"\"\n",
    "    saws = cp.zeros((4, L + 1, 2), dtype=cp.float64)\n",
    "\n",
    "    # Initialize base walks for 4 directions\n",
    "    for i in range(L + 1):\n",
    "        saws[0, i] = [0, i]    # Up\n",
    "        saws[1, i] = [0, -i]   # Down\n",
    "        saws[2, i] = [i, 0]    # Right\n",
    "        saws[3, i] = [-i, 0]   # Left\n",
    "\n",
    "    samples = cp.zeros((num_samples, L + 1, 2), dtype=cp.float64)\n",
    "    per_chain = num_samples // 4\n",
    "\n",
    "    for chain in range(4):\n",
    "        current_walk = cp.array(saws[chain])\n",
    "        count = 0\n",
    "        index_base = chain * per_chain\n",
    "\n",
    "        while count < per_chain:\n",
    "            pivot = cp.random.randint(1, L)\n",
    "            t_idx = cp.random.randint(0, len(TRANSFORMATIONS))\n",
    "            T = TRANSFORMATIONS[t_idx]\n",
    "            transformed_walk = apply_transformation_gpu(current_walk, pivot, T)\n",
    "\n",
    "            if check_self_avoidance_gpu(transformed_walk):\n",
    "                current_walk = transformed_walk\n",
    "                samples[index_base + count] = current_walk\n",
    "                count += 1\n",
    "\n",
    "    return samples\n",
    "\n",
    "\n",
    "def compute_B_gpu(samples):\n",
    "    \"\"\"Estimate B(L, L) using CuPy tensor operations.\"\"\"\n",
    "    N = samples.shape[0]\n",
    "    valid_pairs = cp.zeros((N, N), dtype=cp.float64)\n",
    "\n",
    "    for i in range(N):\n",
    "        for j in range(N):\n",
    "            concatenated = cp.vstack((samples[i], samples[j][1:]))\n",
    "            if check_self_avoidance_gpu(concatenated):\n",
    "                valid_pairs[i, j] = 1\n",
    "\n",
    "    return cp.mean(valid_pairs).item()\n",
    "\n",
    "\n",
    "def apply_transformation_gpu(walk, pivot_index, transformation_matrix):\n",
    "    \"\"\"Apply a transformation to a walk using CuPy tensors.\"\"\"\n",
    "    pivot_point = walk[pivot_index]\n",
    "    rel_positions = walk[pivot_index + 1:] - pivot_point\n",
    "    new_positions = cp.dot(transformation_matrix, rel_positions.T).T + pivot_point\n",
    "    new_walk = walk.copy()\n",
    "    new_walk[pivot_index + 1:] = new_positions\n",
    "    return new_walk\n",
    "\n",
    "\n",
    "def check_self_avoidance_gpu(walk):\n",
    "    \"\"\"Check if a walk avoids itself using CuPy.\"\"\"\n",
    "    seen = set()\n",
    "    for point in walk:\n",
    "        key = tuple(point.tolist())\n",
    "        if key in seen:\n",
    "            return False\n",
    "        seen.add(key)\n",
    "    return True\n",
    "\n",
    "\n",
    "def large_recursive_gpu(initial_L, initial_c_L, iterations, N):\n",
    "    \"\"\"Fully GPU-accelerated recursive computation.\"\"\"\n",
    "    L = initial_L\n",
    "    log_cL = cp.log(initial_c_L)\n",
    "    Ls = cp.zeros(iterations + 1, dtype=cp.float64)\n",
    "    log_cLs = cp.zeros(iterations + 1, dtype=cp.float64)\n",
    "\n",
    "    Ls[0] = L\n",
    "    log_cLs[0] = log_cL\n",
    "\n",
    "    for count in range(1, iterations + 1):\n",
    "        samples = monte_carlo_parallel_gpu(N, L)\n",
    "        proportion = compute_B_gpu(samples)\n",
    "        if proportion == 0:\n",
    "            proportion = 1e-300  # Avoid log(0)\n",
    "        log_cL = cp.log(proportion) + (2 * log_cL)\n",
    "        L = 2 * L\n",
    "\n",
    "        Ls[count] = L\n",
    "        log_cLs[count] = log_cL\n",
    "\n",
    "    return cp.asnumpy(log_cLs), cp.asnumpy(Ls)  # Convert to NumPy for plotting or further analysis"
   ]
  },
  {
   "cell_type": "code",
   "execution_count": 35,
   "id": "ee999f54-0220-4053-a6e0-aa967c0184de",
   "metadata": {},
   "outputs": [
    {
     "ename": "TypeError",
     "evalue": "Unsupported type <class 'list'>",
     "output_type": "error",
     "traceback": [
      "\u001b[31m---------------------------------------------------------------------------\u001b[39m",
      "\u001b[31mTypeError\u001b[39m                                 Traceback (most recent call last)",
      "\u001b[36mCell\u001b[39m\u001b[36m \u001b[39m\u001b[32mIn[35]\u001b[39m\u001b[32m, line 1\u001b[39m\n\u001b[32m----> \u001b[39m\u001b[32m1\u001b[39m \u001b[43mlarge_recursive_gpu\u001b[49m\u001b[43m(\u001b[49m\u001b[32;43m20\u001b[39;49m\u001b[43m,\u001b[49m\u001b[43m \u001b[49m\u001b[32;43m897697164\u001b[39;49m\u001b[43m,\u001b[49m\u001b[43m \u001b[49m\u001b[32;43m7\u001b[39;49m\u001b[43m,\u001b[49m\u001b[43m \u001b[49m\u001b[32;43m10\u001b[39;49m\u001b[43m*\u001b[49m\u001b[43m*\u001b[49m\u001b[32;43m4\u001b[39;49m\u001b[43m)\u001b[49m\n",
      "\u001b[36mCell\u001b[39m\u001b[36m \u001b[39m\u001b[32mIn[34]\u001b[39m\u001b[32m, line 92\u001b[39m, in \u001b[36mlarge_recursive_gpu\u001b[39m\u001b[34m(initial_L, initial_c_L, iterations, N)\u001b[39m\n\u001b[32m     89\u001b[39m log_cLs[\u001b[32m0\u001b[39m] = log_cL\n\u001b[32m     91\u001b[39m \u001b[38;5;28;01mfor\u001b[39;00m count \u001b[38;5;129;01min\u001b[39;00m \u001b[38;5;28mrange\u001b[39m(\u001b[32m1\u001b[39m, iterations + \u001b[32m1\u001b[39m):\n\u001b[32m---> \u001b[39m\u001b[32m92\u001b[39m     samples = \u001b[43mmonte_carlo_parallel_gpu\u001b[49m\u001b[43m(\u001b[49m\u001b[43mN\u001b[49m\u001b[43m,\u001b[49m\u001b[43m \u001b[49m\u001b[43mL\u001b[49m\u001b[43m)\u001b[49m\n\u001b[32m     93\u001b[39m     proportion = compute_B_gpu(samples)\n\u001b[32m     94\u001b[39m     \u001b[38;5;28;01mif\u001b[39;00m proportion == \u001b[32m0\u001b[39m:\n",
      "\u001b[36mCell\u001b[39m\u001b[36m \u001b[39m\u001b[32mIn[34]\u001b[39m\u001b[32m, line 19\u001b[39m, in \u001b[36mmonte_carlo_parallel_gpu\u001b[39m\u001b[34m(num_samples, L)\u001b[39m\n\u001b[32m     17\u001b[39m \u001b[38;5;66;03m# Initialize base walks for 4 directions\u001b[39;00m\n\u001b[32m     18\u001b[39m \u001b[38;5;28;01mfor\u001b[39;00m i \u001b[38;5;129;01min\u001b[39;00m \u001b[38;5;28mrange\u001b[39m(L + \u001b[32m1\u001b[39m):\n\u001b[32m---> \u001b[39m\u001b[32m19\u001b[39m     \u001b[43msaws\u001b[49m\u001b[43m[\u001b[49m\u001b[32;43m0\u001b[39;49m\u001b[43m,\u001b[49m\u001b[43m \u001b[49m\u001b[43mi\u001b[49m\u001b[43m]\u001b[49m = [\u001b[32m0\u001b[39m, i]    \u001b[38;5;66;03m# Up\u001b[39;00m\n\u001b[32m     20\u001b[39m     saws[\u001b[32m1\u001b[39m, i] = [\u001b[32m0\u001b[39m, -i]   \u001b[38;5;66;03m# Down\u001b[39;00m\n\u001b[32m     21\u001b[39m     saws[\u001b[32m2\u001b[39m, i] = [i, \u001b[32m0\u001b[39m]    \u001b[38;5;66;03m# Right\u001b[39;00m\n",
      "\u001b[36mFile \u001b[39m\u001b[32mcupy\\\\_core\\\\core.pyx:1641\u001b[39m, in \u001b[36mcupy._core.core._ndarray_base.__setitem__\u001b[39m\u001b[34m()\u001b[39m\n",
      "\u001b[36mFile \u001b[39m\u001b[32mcupy\\\\_core\\\\_routines_indexing.pyx:51\u001b[39m, in \u001b[36mcupy._core._routines_indexing._ndarray_setitem\u001b[39m\u001b[34m()\u001b[39m\n",
      "\u001b[36mFile \u001b[39m\u001b[32mcupy\\\\_core\\\\_routines_indexing.pyx:1017\u001b[39m, in \u001b[36mcupy._core._routines_indexing._scatter_op\u001b[39m\u001b[34m()\u001b[39m\n",
      "\u001b[36mFile \u001b[39m\u001b[32mcupy\\\\_core\\\\core.pyx:792\u001b[39m, in \u001b[36mcupy._core.core._ndarray_base.fill\u001b[39m\u001b[34m()\u001b[39m\n",
      "\u001b[36mFile \u001b[39m\u001b[32mcupy\\\\_core\\\\_kernel.pyx:869\u001b[39m, in \u001b[36mcupy._core._kernel.ElementwiseKernel.__call__\u001b[39m\u001b[34m()\u001b[39m\n",
      "\u001b[36mFile \u001b[39m\u001b[32mcupy\\\\_core\\\\_kernel.pyx:159\u001b[39m, in \u001b[36mcupy._core._kernel._preprocess_args\u001b[39m\u001b[34m()\u001b[39m\n",
      "\u001b[36mFile \u001b[39m\u001b[32mcupy\\\\_core\\\\_kernel.pyx:145\u001b[39m, in \u001b[36mcupy._core._kernel._preprocess_arg\u001b[39m\u001b[34m()\u001b[39m\n",
      "\u001b[31mTypeError\u001b[39m: Unsupported type <class 'list'>"
     ]
    }
   ],
   "source": [
    "large_recursive_gpu(20, 897697164, 7, 10**4)"
   ]
  },
  {
   "cell_type": "code",
   "execution_count": null,
   "id": "97a28acd-e12d-48b9-bfe7-c2d6e22059e2",
   "metadata": {},
   "outputs": [],
   "source": []
  }
 ],
 "metadata": {
  "kernelspec": {
   "display_name": "Python 3 (ipykernel)",
   "language": "python",
   "name": "python3"
  },
  "language_info": {
   "codemirror_mode": {
    "name": "ipython",
    "version": 3
   },
   "file_extension": ".py",
   "mimetype": "text/x-python",
   "name": "python",
   "nbconvert_exporter": "python",
   "pygments_lexer": "ipython3",
   "version": "3.12.4"
  }
 },
 "nbformat": 4,
 "nbformat_minor": 5
}
