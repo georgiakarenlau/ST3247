{
 "cells": [
  {
   "cell_type": "code",
   "execution_count": 1,
   "id": "e1d26788-13a5-4cc0-b620-e511bbafbd75",
   "metadata": {},
   "outputs": [],
   "source": [
    "import matplotlib.pyplot as plt\n",
    "import numpy as np\n",
    "import numba as nb\n",
    "from numba import njit, prange\n",
    "import time\n",
    "import pandas as pd"
   ]
  },
  {
   "cell_type": "code",
   "execution_count": 4,
   "id": "6e6795c8-df93-472b-95bd-c97f794647fc",
   "metadata": {},
   "outputs": [],
   "source": [
    "DIRECTIONS = np.array(\n",
    "    [[1, 0], [-1, 0], [0, -1], [0, 1]], \n",
    "    dtype=np.float64\n",
    ")\n",
    "\n",
    "@njit\n",
    "def visit(x,y, array, idx):\n",
    "    \"inputs pts where the walk visited\"\n",
    "    array[idx, 0] = x\n",
    "    array[idx, 1] = y\n",
    "\n",
    "@njit\n",
    "def is_visited(x,y, array):\n",
    "    \"checks if the walk visited the pt (x,y)\"\n",
    "    for i in range(array.shape[0]):\n",
    "        if array[i, 0] == x and array[i, 1] == y:\n",
    "            return True\n",
    "    return False\n",
    "\n",
    "@njit\n",
    "def random_walk2(steps):\n",
    "    \"creates a random walk of length steps\"\n",
    "\n",
    "    # a steps-length walk consists of steps+1 points\n",
    "    array = np.zeros((steps+1, 2), dtype = np.float64)\n",
    "    visit(0,0, array, 0)\n",
    "    # current coordinates of walk\n",
    "    x_coord, y_coord = 0, 0 \n",
    "    q_x = 1\n",
    "    \n",
    "    for i in range(steps):\n",
    "        neighbours = np.zeros((4,2), dtype = np.float64)\n",
    "        count = 0\n",
    "\n",
    "        for j in range(4):\n",
    "            dx = DIRECTIONS[j, 0]\n",
    "            dy = DIRECTIONS[j, 1]\n",
    "            nx = x_coord + dx\n",
    "            ny = y_coord + dy\n",
    "\n",
    "            if not is_visited(nx, ny, array):\n",
    "                # check if it is a possible neigbour\n",
    "                neighbours[count, 0] = nx\n",
    "                neighbours[count, 1] = ny\n",
    "                count += 1\n",
    "\n",
    "        possible_neighbours = neighbours[:count]\n",
    "\n",
    "        if count == 0:\n",
    "            # since it has no possible neighbour,\n",
    "            # it is not a random walk of length steps (since it stays at the same spot)\n",
    "            # so, p_x = 0\n",
    "            # set q_x = 0 since it is also not a SAW of length steps (as it has no neighbours)\n",
    "            # this avoids using the length of array to know if its a SAW or not\n",
    "            return array, 0.0\n",
    "\n",
    "        else:\n",
    "            # walk moves to one of the possible neigbours randomly\n",
    "            move = np.random.randint(count)\n",
    "            x_coord = neighbours[move, 0]\n",
    "            y_coord = neighbours[move, 1]\n",
    "            visit(x_coord, y_coord, array, i+1)\n",
    "            q_x = q_x * (1/ count)\n",
    "            \n",
    "\n",
    "    return array, q_x"
   ]
  },
  {
   "cell_type": "code",
   "execution_count": 6,
   "id": "a7e308dd-6ef7-41f6-84f3-08b6b9e15e8a",
   "metadata": {},
   "outputs": [],
   "source": [
    "@njit(parallel = True)\n",
    "def estimation_saws(size, steps):\n",
    "    \"returns the estimated c_L value for L = steps\"\n",
    "    rus = np.zeros(size, dtype = np.float64)\n",
    "    qxs = np.zeros(size, dtype = np.float64)\n",
    "\n",
    "    for i in prange(size):\n",
    "        _, q_x = random_walk2(steps)\n",
    "        qxs[i] = q_x\n",
    "        if q_x != 0:\n",
    "            # rus[i] = ( (1/4)**steps) / q_x\n",
    "            # but in c_L = (4**steps) * np.mean((qxs != 0) * rus)\n",
    "            # when q_x = 0, we define ru = 0 to avoid dividing by 0\n",
    "            # so if q_x is not a SAW of length steps, (q_x != 0) * ru = False (which is 0) * 0 = 0 \n",
    "            # so for all the q_x not a SAW of length steps, np.mean( (qxs != 0) *rus) = np.mean(0) = 0\n",
    "            # enough to consider np.mean(rus)\n",
    "            # for c_L = (4**steps) * (np.mean( (qxs != 0) * rus)) = (4**steps) * (np.mean(rus))\n",
    "            # since each ru = (1/4)**steps / q_x\n",
    "            # c_L = np.mean(sum of all 1/q_x)\\\n",
    "            # do this to avoid floating-point precision error\n",
    "            rus[i] = 1/q_x\n",
    "    c_L = (np.mean(rus))\n",
    "    # return c_L, count/len(qxs)\n",
    "    return c_L"
   ]
  },
  {
   "cell_type": "markdown",
   "id": "b2735e68-fe3c-4ffc-ba11-a5099f32d6a3",
   "metadata": {},
   "source": [
    "## Results for L = 1 to L = 15"
   ]
  },
  {
   "cell_type": "code",
   "execution_count": 7,
   "id": "05202be6-8c92-42d4-8d95-654a0c7d02d0",
   "metadata": {},
   "outputs": [],
   "source": [
    "L_vals = np.array([_ for _ in range(1, 16)])"
   ]
  },
  {
   "cell_type": "code",
   "execution_count": 8,
   "id": "a4e63638-8b13-4f21-81c4-986145231b8d",
   "metadata": {},
   "outputs": [
    {
     "name": "stdout",
     "output_type": "stream",
     "text": [
      "Time taken: 3.320 seconds\n"
     ]
    }
   ],
   "source": [
    "start = time.time()\n",
    "c_L_vals = np.array([estimation_saws(10**6, i) for i in L_vals])\n",
    "mu_vals = c_L_vals ** (1/L_vals)\n",
    "end = time.time()\n",
    "\n",
    "print(f\"Time taken: {end - start:.3f} seconds\")"
   ]
  },
  {
   "cell_type": "code",
   "execution_count": 9,
   "id": "ea8982bf-bbd7-4a4e-b77c-4a4175d3737c",
   "metadata": {},
   "outputs": [
    {
     "data": {
      "text/plain": [
       "array([4.00000000e+00, 1.20000000e+01, 3.60000000e+01, 1.00003968e+02,\n",
       "       2.83970772e+02, 7.80122664e+02, 2.17184166e+03, 5.91402708e+03,\n",
       "       1.62686430e+04, 4.40765735e+04, 1.20217503e+05, 3.24993759e+05,\n",
       "       8.81129435e+05, 2.37164581e+06, 6.41394715e+06])"
      ]
     },
     "execution_count": 9,
     "metadata": {},
     "output_type": "execute_result"
    }
   ],
   "source": [
    "# c_L values for L = 1 to L = 15\n",
    "c_L_vals"
   ]
  },
  {
   "cell_type": "code",
   "execution_count": 10,
   "id": "da372331-5f47-489e-b06d-8cf9d10fdd38",
   "metadata": {},
   "outputs": [],
   "source": [
    "# actual c_L vlaues for L = 1 to L = 15\n",
    "act_cL = np.array([4,12,36,100,284,780,2172,5916,16268,44100,\n",
    " 120292,324932,881500,2374444,6416596])"
   ]
  },
  {
   "cell_type": "code",
   "execution_count": 12,
   "id": "55a37f94-4963-4597-809f-af1aed14f2a6",
   "metadata": {},
   "outputs": [
    {
     "data": {
      "text/plain": [
       "array([0.        , 0.        , 0.        , 0.003968  , 0.01029155,\n",
       "       0.01572615, 0.00729006, 0.03334888, 0.00395232, 0.05312139,\n",
       "       0.06192985, 0.01900671, 0.04203805, 0.11784628, 0.04128124])"
      ]
     },
     "execution_count": 12,
     "metadata": {},
     "output_type": "execute_result"
    }
   ],
   "source": [
    "# relative error\n",
    "r_err = np.abs( (c_L_vals - act_cL) / act_cL) * 100\n",
    "r_err"
   ]
  }
 ],
 "metadata": {
  "kernelspec": {
   "display_name": "Python 3 (ipykernel)",
   "language": "python",
   "name": "python3"
  },
  "language_info": {
   "codemirror_mode": {
    "name": "ipython",
    "version": 3
   },
   "file_extension": ".py",
   "mimetype": "text/x-python",
   "name": "python",
   "nbconvert_exporter": "python",
   "pygments_lexer": "ipython3",
   "version": "3.12.4"
  }
 },
 "nbformat": 4,
 "nbformat_minor": 5
}
