{
 "cells": [
  {
   "cell_type": "code",
   "execution_count": 16,
   "id": "5635ba83-6d4e-4f5b-93f7-7083f8f0b22b",
   "metadata": {},
   "outputs": [],
   "source": [
    "import numpy as np\n",
    "from numba import njit, prange\n",
    "import time\n",
    "from scipy.stats import linregress, theilslopes\n",
    "import cupy as cp\n",
    "import math\n",
    "import statsmodels.api as sm\n",
    "import matplotlib.pyplot as plt"
   ]
  },
  {
   "cell_type": "markdown",
   "id": "eb994d82-cd93-446c-8a67-cbd5699d30f1",
   "metadata": {},
   "source": [
    "# Final Code"
   ]
  },
  {
   "cell_type": "code",
   "execution_count": 45,
   "id": "03ce07d7-b7b2-4866-a675-1bf709620b6e",
   "metadata": {},
   "outputs": [],
   "source": [
    "TRANSFORMATIONS = np.array([\n",
    "    [[0, -1], [1, 0]],     # 90° Rotation\n",
    "    [[-1, 0], [0, -1]],    # 180° Rotation\n",
    "    [[0, 1], [-1, 0]],     # 270° Rotation\n",
    "    [[1, 0], [0, -1]],     # Reflection x-axis\n",
    "    [[-1, 0], [0, 1]],     # Reflection y-axis\n",
    "    [[0, 1], [1, 0]],      # Reflection x=y\n",
    "    [[0, -1], [-1, 0]],    # Reflection x=-y\n",
    "], dtype=np.float64)\n",
    "\n",
    "@njit\n",
    "def initialize_saws(L):\n",
    "    \"returns straight line SAWS of different directions of length L\"\n",
    "    saws = np.zeros((4, L+1, 2), dtype=np.float64)\n",
    "    for i in range(L+1):\n",
    "        saws[0, i] = [0, i]     # Up\n",
    "        saws[1, i] = [0, -i]    # Down\n",
    "        saws[2, i] = [i, 0]     # Right\n",
    "        saws[3, i] = [-i, 0]    # Left\n",
    "    return saws\n",
    "\n",
    "@njit\n",
    "def apply_transformation(walk, pivot_index, transformation_matrix):\n",
    "    new_walk = walk.copy()\n",
    "    pivot_point = walk[pivot_index] # coordinates of the pivot pt\n",
    "    for i in range(pivot_index + 1, len(walk)):\n",
    "        rel = walk[i] - pivot_point \n",
    "        # apply transformation_matrix \n",
    "        new_walk[i] = (transformation_matrix @ rel) + pivot_point\n",
    "    return new_walk\n",
    "\n",
    "@njit\n",
    "def check_self_avoidance(walk):\n",
    "    seen = set() # uses a set to check for self-avoidance\n",
    "    for i in range(walk.shape[0]):\n",
    "        key = (int(walk[i, 0]), int(walk[i, 1]))\n",
    "        if key in seen:\n",
    "            return False\n",
    "        seen.add(key)\n",
    "    return True\n",
    "\n",
    "@njit(parallel=True)\n",
    "def monte_carlo_parallel(num_samples, L):\n",
    "    \"generates (num_samples) of samples of length L using the pivot+ algo\"\n",
    "    saws = initialize_saws(L)\n",
    "    samples = np.zeros((num_samples, L+1, 2), dtype=np.float64)\n",
    "    # pivots = np.full(num_samples, -1, dtype=np.int32)  # default -1 = initial\n",
    "    # transformations = np.full(num_samples, -1, dtype=np.int32)  # default -1 = initial\n",
    "\n",
    "    per_chain = num_samples // 4\n",
    "\n",
    "    # each straight line SAW (of different direction) is modified independently\n",
    "    for chain in prange(4):\n",
    "        current_walk = saws[chain].copy()\n",
    "        count = 0\n",
    "        index_base = chain * per_chain\n",
    "\n",
    "        samples[index_base + count] = current_walk\n",
    "        # pivots[index_base + count] = -1\n",
    "        # transformations[index_base + count] = -1\n",
    "        count += 1\n",
    "\n",
    "        while count < per_chain:\n",
    "            # chooses a pivot point\n",
    "            pivot = np.random.randint(1, L)\n",
    "            # chooses a transformation matrix\n",
    "            t_idx = np.random.randint(0, len(TRANSFORMATIONS))\n",
    "            T = TRANSFORMATIONS[t_idx]\n",
    "            transformed_walk = apply_transformation(current_walk, pivot, T)\n",
    "\n",
    "            if check_self_avoidance(transformed_walk):\n",
    "                current_walk = transformed_walk\n",
    "                samples[index_base + count] = current_walk\n",
    "                # pivots[index_base + count] = pivot\n",
    "                # transformations[index_base + count] = t_idx\n",
    "                count += 1\n",
    "\n",
    "    return samples\n",
    "\n",
    "@njit\n",
    "def concatenate_saws(walk1, walk2):\n",
    "    \"\"\"Translate walk2 so that it starts where walk1 ends, then concatenate.\"\"\"\n",
    "    endpoint = walk1[-1]  # Get the last point of walk1\n",
    "    translation_vector = endpoint - walk2[0]  # Calculate how much to shift walk2\n",
    "    translated_walk2 = walk2 + translation_vector  # Apply the shift\n",
    "\n",
    "    # Concatenate the translated second walk onto the first\n",
    "    concatenated_walk = np.vstack((walk1, translated_walk2[1:]))\n",
    "\n",
    "    return concatenated_walk\n",
    "\n",
    "@njit(parallel = True)\n",
    "def compute_B(samples):\n",
    "    \"\"\"Estimate B(L1, L2) by checking valid concatenations of independent SAWs.\"\"\"\n",
    "    N = len(samples)\n",
    "    Lp1 = samples.shape[1]\n",
    "    valid_flags = np.zeros(N, dtype=np.uint8)\n",
    "\n",
    "    for k in prange(N):\n",
    "        # draw a random pair (i,j) uniformly from [0..N-1]\n",
    "        i = np.random.randint(N)\n",
    "        j = np.random.randint(N)\n",
    "        \n",
    "        # build the concatenated walk\n",
    "        concatenated = concatenate_saws(samples[i], samples[j])\n",
    "        # test self-avoidance of the concatenated walk\n",
    "        if check_self_avoidance(concatenated):\n",
    "            valid_flags[k] = 1\n",
    "\n",
    "    # K tests were done\n",
    "    # so B ≈ (valid/K)\n",
    "    return np.mean(valid_flags)\n",
    "\n",
    "@njit(parallel = True)\n",
    "def large_recursive(initial_L, initial_c_L, iterations, N):\n",
    "    \"uses the recursive method to obtain log(c_L)\"\n",
    "    \"log(c_L), L values will be used to find mu\"\n",
    "    L = initial_L\n",
    "    log_cL = np.log(initial_c_L)\n",
    "    count = 1\n",
    "\n",
    "    Ls = np.zeros(iterations+1, dtype = np.float64)\n",
    "    cLs = np.zeros(iterations+1, dtype = np.float64)\n",
    "\n",
    "    Ls[0] = L\n",
    "    cLs[0] = log_cL\n",
    "    \n",
    "    while count <= iterations:\n",
    "        print(\"iterations\", count)\n",
    "        \n",
    "        samples = monte_carlo_parallel(N, L)\n",
    "        proportion = compute_B(samples)\n",
    "        \n",
    "        log_cL = np.log(proportion) +  (2 * log_cL)\n",
    "        L = 2*L\n",
    "        \n",
    "        print(log_cL, L)\n",
    "        \n",
    "        Ls[count] = L\n",
    "        cLs[count] = log_cL\n",
    "        count += 1\n",
    "    return cLs, Ls"
   ]
  },
  {
   "cell_type": "code",
   "execution_count": 46,
   "id": "53c4c5dc-246f-4248-b2f6-33ffc45a1282",
   "metadata": {},
   "outputs": [],
   "source": [
    "def ln_estimate_mu(Ls, log_cLs):\n",
    "    \"uses regression to estimate mu\"\n",
    "    # Given data\n",
    "    # log_cL = np.array([...])\n",
    "    # L = np.array([...])\n",
    "    \n",
    "    # Construct your y and predictors\n",
    "    y = log_cLs / Ls\n",
    "    x1 = 1 / Ls\n",
    "    x2 = np.log(Ls) / Ls\n",
    "    \n",
    "    # Stack predictors and add constant for intercept (log u)\n",
    "    X = np.column_stack((x1, x2))\n",
    "    X = sm.add_constant(X)  # adds intercept term\n",
    "    \n",
    "    # Fit the model\n",
    "    model = sm.OLS(y, X).fit()\n",
    "    \n",
    "    # Extract coefficients\n",
    "    intercept, beta1, beta2 = model.params\n",
    "    u = np.exp(intercept)\n",
    "    \n",
    "    return u"
   ]
  },
  {
   "cell_type": "markdown",
   "id": "842ef1a5-fe95-4086-8de7-11809c29fb7d",
   "metadata": {},
   "source": [
    "## Recursion using initial_L = 20. Final_L = 5120."
   ]
  },
  {
   "cell_type": "code",
   "execution_count": 4,
   "id": "0684acc8-7b97-4a6f-bd13-ac8fa73e69c4",
   "metadata": {},
   "outputs": [
    {
     "name": "stdout",
     "output_type": "stream",
     "text": [
      "iterations 1\n",
      "40.26409951619261 40\n",
      "iterations 2\n",
      "79.33821788668602 80\n",
      "iterations 3\n",
      "157.25995845526657 160\n",
      "iterations 4\n",
      "312.8592541224235 320\n",
      "iterations 5\n",
      "623.8375896392992 640\n",
      "iterations 6\n",
      "1245.5621644072341 1280\n",
      "iterations 7\n",
      "2488.768374589816 2560\n",
      "iterations 8\n",
      "4974.93384247064 5120\n",
      "Total time for large_recursive: 613.1523 seconds\n"
     ]
    }
   ],
   "source": [
    "start_time = time.time()\n",
    "m1test_ln_cLs_20, m1test_Ls_20 = large_recursive(20, 897697164, 8, 10**6)\n",
    "total_time = time.time() - start_time  # Calculate the total time\n",
    "print(f\"Total time for large_recursive: {total_time:.4f} seconds\")"
   ]
  },
  {
   "cell_type": "code",
   "execution_count": 13,
   "id": "62e2e203-1484-450d-b0bf-2fde6e1c013e",
   "metadata": {},
   "outputs": [
    {
     "data": {
      "text/plain": [
       "(array([  20.,   40.,   80.,  160.,  320.,  640., 1280., 2560., 5120.]),\n",
       " array([  20.61534334,   40.26409952,   79.33821789,  157.25995846,\n",
       "         312.85925412,  623.83758964, 1245.56216441, 2488.76837459,\n",
       "        4974.93384247]))"
      ]
     },
     "execution_count": 13,
     "metadata": {},
     "output_type": "execute_result"
    }
   ],
   "source": [
    "m1test_Ls_20, m1test_ln_cLs_20"
   ]
  },
  {
   "cell_type": "code",
   "execution_count": 47,
   "id": "b4876d0c-bae5-45a8-894e-fd9fc422587a",
   "metadata": {},
   "outputs": [
    {
     "data": {
      "text/plain": [
       "array([2.80321554, 2.73628863, 2.6958882 , 2.67212688, 2.65829561,\n",
       "       2.65049452, 2.64612271, 2.64368862, 2.64234496])"
      ]
     },
     "execution_count": 47,
     "metadata": {},
     "output_type": "execute_result"
    }
   ],
   "source": [
    "# estimates of mu using mu = c_L ^ (1\\L)\n",
    "np.exp( m1test_ln_cLs_20 / m1test_Ls_20)"
   ]
  },
  {
   "cell_type": "code",
   "execution_count": 39,
   "id": "6bae2f55-667b-41db-a8b5-a2ca1b32ce69",
   "metadata": {},
   "outputs": [
    {
     "data": {
      "text/plain": [
       "np.float64(2.6408310742871124)"
      ]
     },
     "execution_count": 39,
     "metadata": {},
     "output_type": "execute_result"
    }
   ],
   "source": [
    "# estimates \\mu using linear regression\n",
    "ln_estimate_mu(m1test_Ls_20, m1test_ln_cLs_20)"
   ]
  },
  {
   "cell_type": "code",
   "execution_count": 50,
   "id": "0f142669-d4d0-4e1a-8e24-dce0321805e8",
   "metadata": {},
   "outputs": [
    {
     "data": {
      "image/png": "[encoded data removed]",
      "text/plain": [
       "<Figure size 640x480 with 1 Axes>"
      ]
     },
     "metadata": {},
     "output_type": "display_data"
    }
   ],
   "source": [
    "plt.plot(\n",
    "    m1test_Ls_20, \n",
    "    np.exp( m1test_ln_cLs_20 / m1test_Ls_20),\n",
    "    label = r\"Estimated $ \\mu $\"\n",
    ")\n",
    "plt.axhline(y = 2.6381, color = \"r\", linestyle = \"--\", label = r\"Best known $\\mu$~2.6381\")\n",
    "plt.title(r\"Estimated walk $\\mu$ vs Walk Length $(L)$\")\n",
    "plt.grid(True)\n",
    "plt.legend()\n",
    "plt.xlabel(r\"Walk Length $L$\")\n",
    "plt.ylabel(r\"$ \\mu = c_{L} ^{\\frac{1}{L}} $\")\n",
    "plt.ylim((2.60, 2.82))\n",
    "# plt.savefig(\"C:\\\\Users\\\\Admin\\\\Downloads\\\\initial_L=20.png\")\n",
    "plt.show()"
   ]
  },
  {
   "cell_type": "markdown",
   "id": "fd475704-1e95-449a-bcc1-3d31f427c741",
   "metadata": {},
   "source": [
    "## Recursion using initial_L = 27. Final_L = 6912."
   ]
  },
  {
   "cell_type": "code",
   "execution_count": 7,
   "id": "e37cf8b8-b650-47fe-b12f-20ec3a1ebdbb",
   "metadata": {},
   "outputs": [
    {
     "name": "stdout",
     "output_type": "stream",
     "text": [
      "iterations 1\n",
      "53.94080520384932 54\n",
      "iterations 2\n",
      "106.5927113237831 108\n",
      "iterations 3\n",
      "211.66260728653887 216\n",
      "iterations 4\n",
      "421.57562914394424 432\n",
      "iterations 5\n",
      "841.1630969985705 864\n",
      "iterations 6\n",
      "1680.0908936509525 1728\n",
      "iterations 7\n",
      "3357.718493404853 3456\n",
      "iterations 8\n",
      "6712.741166517461 6912\n",
      "Total time for large_recursive: 1072.9869 seconds\n"
     ]
    }
   ],
   "source": [
    "start_time = time.time()\n",
    "m1test_ln_cLs_27, m1test_Ls_27 = large_recursive(27, 881317491628, 8, 10**6)\n",
    "total_time = time.time() - start_time  # Calculate the total time\n",
    "print(f\"Total time for large_recursive: {total_time:.4f} seconds\")"
   ]
  },
  {
   "cell_type": "code",
   "execution_count": 11,
   "id": "2147b638-8ddd-444b-bc36-f64bc2a35323",
   "metadata": {},
   "outputs": [
    {
     "data": {
      "text/plain": [
       "(array([  27.,   54.,  108.,  216.,  432.,  864., 1728., 3456., 6912.]),\n",
       " array([  27.50468377,   53.9408052 ,  106.59271132,  211.66260729,\n",
       "         421.57562914,  841.163097  , 1680.09089365, 3357.7184934 ,\n",
       "        6712.74116652]))"
      ]
     },
     "execution_count": 11,
     "metadata": {},
     "output_type": "execute_result"
    }
   ],
   "source": [
    "m1test_Ls_27, m1test_ln_cLs_27"
   ]
  },
  {
   "cell_type": "code",
   "execution_count": 48,
   "id": "a9ba0bd8-94dd-4f04-ab8b-8dc5cd26120c",
   "metadata": {},
   "outputs": [
    {
     "data": {
      "text/plain": [
       "array([2.76956977, 2.71530368, 2.68309116, 2.6642417 , 2.65347343,\n",
       "       2.64737451, 2.64395215, 2.64206832, 2.64103806])"
      ]
     },
     "execution_count": 48,
     "metadata": {},
     "output_type": "execute_result"
    }
   ],
   "source": [
    "# estimates of mu using mu = c_L ^ (1\\L)\n",
    "np.exp( m1test_ln_cLs_27 / m1test_Ls_27 )"
   ]
  },
  {
   "cell_type": "code",
   "execution_count": 40,
   "id": "a1de46ab-1668-4c32-b6fc-ac038b472f94",
   "metadata": {},
   "outputs": [
    {
     "data": {
      "text/plain": [
       "np.float64(2.639891168753224)"
      ]
     },
     "execution_count": 40,
     "metadata": {},
     "output_type": "execute_result"
    }
   ],
   "source": [
    "# estimates \\mu using linear regression\n",
    "ln_estimate_mu(m1test_Ls_27, m1test_ln_cLs_27 )"
   ]
  },
  {
   "cell_type": "code",
   "execution_count": 49,
   "id": "ef7baf14-bd21-4fc9-83d0-9e0730ea423f",
   "metadata": {},
   "outputs": [
    {
     "data": {
      "image/png": "[encoded data removed]",
      "text/plain": [
       "<Figure size 640x480 with 1 Axes>"
      ]
     },
     "metadata": {},
     "output_type": "display_data"
    }
   ],
   "source": [
    "plt.plot(\n",
    "    m1test_Ls_27, \n",
    "    np.exp( m1test_ln_cLs_27 / m1test_Ls_27),\n",
    "    label = r\"Estimated $ \\mu $\"\n",
    ")\n",
    "plt.axhline(y = 2.6381, color = \"r\", linestyle = \"--\", label = r\"Best known $\\mu$~2.6381\")\n",
    "plt.title(r\"Estimated walk $\\mu$ vs Walk Length $(L)$\")\n",
    "plt.grid(True)\n",
    "plt.legend()\n",
    "plt.xlabel(r\"Walk Length $L$\")\n",
    "plt.ylabel(r\"$ \\mu = c_{L} ^{\\frac{1}{L}} $\")\n",
    "plt.ylim((2.62, 2.78))\n",
    "# plt.savefig(\"C:\\\\Users\\\\Admin\\\\Downloads\\\\initial_L=27.png\")\n",
    "plt.show()"
   ]
  },
  {
   "cell_type": "markdown",
   "id": "edd027e5-8d98-43ac-b6fe-d52f34f184e1",
   "metadata": {},
   "source": [
    "# Preliminary Codes"
   ]
  },
  {
   "cell_type": "markdown",
   "id": "93e62827-0b8d-41a9-be6e-2f550b115d6c",
   "metadata": {},
   "source": [
    "## Recursion method after using standard pivot+ algo"
   ]
  },
  {
   "cell_type": "code",
   "execution_count": 3,
   "id": "688a0afd-2769-409c-91ae-08fbd78d85d7",
   "metadata": {},
   "outputs": [],
   "source": [
    "TRANSFORMATIONS = np.array([\n",
    "    [[0, -1], [1, 0]],     # 90° Rotation\n",
    "    [[-1, 0], [0, -1]],    # 180° Rotation\n",
    "    [[0, 1], [-1, 0]],     # 270° Rotation\n",
    "    [[1, 0], [0, -1]],     # Reflection x-axis\n",
    "    [[-1, 0], [0, 1]],     # Reflection y-axis\n",
    "    [[0, 1], [1, 0]],      # Reflection x=y\n",
    "    [[0, -1], [-1, 0]],    # Reflection x=-y\n",
    "], dtype=np.float64)\n",
    "\n",
    "@njit\n",
    "def initialize_random_saw(L):\n",
    "    \"\"\"Randomly initialize a straight-line SAW in one of four directions.\"\"\"\n",
    "    direction = np.random.randint(0, 4)\n",
    "    saw = np.zeros((L+1, 2), dtype=np.float64)\n",
    "    if direction == 0:   # Up\n",
    "        saw[:, 1] = np.arange(L+1)\n",
    "    elif direction == 1: # Down\n",
    "        saw[:, 1] = -np.arange(L+1)\n",
    "    elif direction == 2: # Right\n",
    "        saw[:, 0] = np.arange(L+1)\n",
    "    else:                # Left\n",
    "        saw[:, 0] = -np.arange(L+1)\n",
    "    return saw\n",
    "\n",
    "\n",
    "@njit\n",
    "def apply_transformation(walk, pivot_index, transformation_matrix):\n",
    "    new_walk = walk.copy()\n",
    "    pivot_point = walk[pivot_index]\n",
    "    for i in range(pivot_index + 1, len(walk)):\n",
    "        rel = walk[i] - pivot_point\n",
    "        new_walk[i] = (transformation_matrix @ rel) + pivot_point\n",
    "    return new_walk\n",
    "\n",
    "@njit\n",
    "def check_self_avoidance(walk):\n",
    "    seen = set()\n",
    "    for i in range(walk.shape[0]):\n",
    "        key = (int(walk[i, 0]), int(walk[i, 1]))\n",
    "        if key in seen:\n",
    "            return False\n",
    "        seen.add(key)\n",
    "    return True\n",
    "\n",
    "@njit\n",
    "def monte_carlo_parallel(num_samples, L):\n",
    "    current_walk = initialize_random_saw(L)\n",
    "    N = num_samples // 4\n",
    "    samples = np.zeros((N, L+1, 2), dtype=np.float64)\n",
    "    # pivots = np.full(num_samples, -1, dtype=np.int64)  # default -1 = initial\n",
    "    # transformations = np.full(num_samples, -1, dtype=np.int64)  # default -1 = initial\n",
    "    count = 0\n",
    "\n",
    "    samples[count] = current_walk\n",
    "    # pivots[count] = -1\n",
    "    # transformations[count] = -1\n",
    "    count += 1\n",
    "\n",
    "    while count < N :\n",
    "        pivot = np.random.randint(1, L)\n",
    "        t_idx = np.random.randint(0, len(TRANSFORMATIONS))\n",
    "        T = TRANSFORMATIONS[t_idx]\n",
    "        transformed_walk = apply_transformation(current_walk, pivot, T)\n",
    "\n",
    "        if check_self_avoidance(transformed_walk):\n",
    "            current_walk = transformed_walk\n",
    "            samples[count] = current_walk\n",
    "            # pivots[count] = pivot\n",
    "            # transformations[count] = t_idx\n",
    "            count += 1\n",
    "    \n",
    "    full_samples = generate_augmented_samples(samples)\n",
    "    \n",
    "    return full_samples\n",
    "\n",
    "@njit\n",
    "def concatenate_saws(walk1, walk2):\n",
    "    \"\"\"Translate walk2 so that it starts where walk1 ends, then concatenate.\"\"\"\n",
    "    endpoint = walk1[-1]  # Get the last point of walk1\n",
    "    translation_vector = endpoint - walk2[0]  # Calculate how much to shift walk2\n",
    "    translated_walk2 = walk2 + translation_vector  # Apply the shift\n",
    "\n",
    "    # Concatenate the translated second walk onto the first\n",
    "    concatenated_walk = np.vstack((walk1, translated_walk2[1:]))\n",
    "\n",
    "    return concatenated_walk\n",
    "\n",
    "@njit(parallel = True)\n",
    "def compute_B(samples):\n",
    "    \"\"\"Estimate B(L1, L2) by checking valid concatenations of independent SAWs.\"\"\"\n",
    "    N = len(samples)\n",
    "    Lp1 = samples.shape[1]\n",
    "    valid_flags = np.zeros(N, dtype=np.uint8)\n",
    "\n",
    "    for k in prange(N):\n",
    "        # draw a random pair (i,j) uniformly from [0..N-1]\n",
    "        i = np.random.randint(N)\n",
    "        j = np.random.randint(N)\n",
    "        \n",
    "        # build the concatenated walk in a temporary array\n",
    "        concatenated = concatenate_saws(samples[i], samples[j])\n",
    "        # test self-avoidance\n",
    "        if check_self_avoidance(concatenated):\n",
    "            valid_flags[k] = 1\n",
    "\n",
    "    # each of the K tests stands in for N^2 tests\n",
    "    # so B ≈ (valid/K)\n",
    "    return np.mean(valid_flags)\n",
    "\n",
    "@njit(parallel = True)\n",
    "def large_recursive(initial_L, initial_c_L, iterations, N):\n",
    "    N = int(N)\n",
    "    L = initial_L\n",
    "    log_cL = np.log(initial_c_L)\n",
    "    count = 1\n",
    "\n",
    "    Ls = np.zeros(iterations+1, dtype = np.float64)\n",
    "    cLs = np.zeros(iterations+1, dtype = np.float64)\n",
    "\n",
    "    Ls[0] = L\n",
    "    cLs[0] = log_cL\n",
    "    \n",
    "    while count <= iterations:\n",
    "        print(\"iterations\", count)\n",
    "        \n",
    "        samples = monte_carlo_parallel(N, L)\n",
    "        proportion = compute_B(samples)\n",
    "        \n",
    "        log_cL = np.log(proportion) +  (2 * log_cL)\n",
    "        L = 2*L\n",
    "        \n",
    "        print(log_cL, L)\n",
    "        \n",
    "        Ls[count] = L\n",
    "        cLs[count] = log_cL\n",
    "        count += 1\n",
    "    return cLs, Ls"
   ]
  },
  {
   "cell_type": "code",
   "execution_count": 4,
   "id": "2715dbd0-f6c5-4e29-868d-56576d031b56",
   "metadata": {},
   "outputs": [],
   "source": [
    "@njit\n",
    "def rotate_walk(walk, transformation):\n",
    "    \"\"\"Apply rotation by theta radians.\"\"\"\n",
    "    return np.dot(transformation, walk.T).T"
   ]
  },
  {
   "cell_type": "code",
   "execution_count": 5,
   "id": "c00efb83-bbb2-48ce-8da4-e22b0a7be823",
   "metadata": {},
   "outputs": [],
   "source": [
    "@njit(parallel=True)\n",
    "def generate_augmented_samples(samples):\n",
    "    \"\"\"Rotate each walk independently using prange for parallelization.\"\"\"\n",
    "    N, L, dim = samples.shape\n",
    "    rotated_90  = np.zeros((N, L, dim), dtype=np.float64)\n",
    "    rotated_180 = np.zeros((N, L, dim), dtype=np.float64)\n",
    "    rotated_270 = np.zeros((N, L, dim), dtype=np.float64)\n",
    "\n",
    "    for i in prange(N):  # Parallelized loop\n",
    "        rotated_90[i]  = rotate_walk(samples[i], TRANSFORMATIONS[0])\n",
    "        rotated_180[i] = rotate_walk(samples[i], TRANSFORMATIONS[1])\n",
    "        rotated_270[i] = rotate_walk(samples[i], TRANSFORMATIONS[2], )\n",
    "\n",
    "    return np.vstack((samples, rotated_90, rotated_180, rotated_270))"
   ]
  },
  {
   "cell_type": "code",
   "execution_count": 15,
   "id": "f815ad9f-65b5-48fb-98cb-927f3f78ff02",
   "metadata": {},
   "outputs": [
    {
     "name": "stdout",
     "output_type": "stream",
     "text": [
      "iterations 1\n",
      "40.26503498716269 40\n",
      "iterations 2\n",
      "79.33431332477079 80\n",
      "iterations 3\n",
      "157.2367824686612 160\n",
      "iterations 4\n",
      "312.8156140722922 320\n",
      "iterations 5\n",
      "623.7542767331001 640\n",
      "iterations 6\n",
      "1245.372490778091 1280\n",
      "iterations 7\n",
      "2488.3528655511977 2560\n",
      "iterations 8\n",
      "4974.106705695276 5120\n",
      "Total time for large_recursive: 754.6486 seconds\n"
     ]
    }
   ],
   "source": [
    "start_time = time.time()\n",
    "m3test_ln_cLs_20, m3test_Ls_20 = large_recursive(20, 897697164, 8, 10**6) \n",
    "total_time = time.time() - start_time  # Calculate the total time\n",
    "print(f\"Total time for large_recursive: {total_time:.4f} seconds\")"
   ]
  },
  {
   "cell_type": "code",
   "execution_count": 17,
   "id": "7483a1e2-37a8-447d-b03f-971597686306",
   "metadata": {},
   "outputs": [
    {
     "data": {
      "text/plain": [
       "array([2.80321554, 2.73635262, 2.69575663, 2.67173985, 2.65793311,\n",
       "       2.65014951, 2.64573063, 2.64325956, 2.64191813])"
      ]
     },
     "execution_count": 17,
     "metadata": {},
     "output_type": "execute_result"
    }
   ],
   "source": [
    "np.exp(m3test_ln_cLs_20 / m3test_Ls_20)"
   ]
  },
  {
   "cell_type": "code",
   "execution_count": null,
   "id": "5d59ca1c-bae6-4356-b864-811fbd3ce926",
   "metadata": {},
   "outputs": [],
   "source": []
  }
 ],
 "metadata": {
  "kernelspec": {
   "display_name": "Python 3 (ipykernel)",
   "language": "python",
   "name": "python3"
  },
  "language_info": {
   "codemirror_mode": {
    "name": "ipython",
    "version": 3
   },
   "file_extension": ".py",
   "mimetype": "text/x-python",
   "name": "python",
   "nbconvert_exporter": "python",
   "pygments_lexer": "ipython3",
   "version": "3.12.4"
  }
 },
 "nbformat": 4,
 "nbformat_minor": 5
}
