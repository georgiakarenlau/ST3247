{
 "cells": [
  {
   "cell_type": "markdown",
   "id": "685fbf5c-6fed-48b0-b9b8-93d6e54d3b20",
   "metadata": {},
   "source": [
    "Consider the number of random walks without any constraint,\n",
    "\n",
    "in the 2d plane, at each step, there are 4 ways to proceed.\n",
    "\n",
    "so $c_L \\leq 4^L. $\n",
    "\n",
    "But we can do better. \n",
    "\n",
    "Consider a random walk such that it can only move in the positive x and y direction:\n",
    "\n",
    "it clearly is a self-avoiding random walk, but clearly, it is a subset of all self-avoiding random walks of length $L$.\n",
    "\n",
    "so, $2^L \\leq c_L$.\n",
    "\n",
    "Next, since we want self-avoiding walks, it cannot go back to the previous spot that it came from.\n",
    "\n",
    "Thus, from the second move onwards, it can only make 3 moves. \n",
    "\n",
    "This implies $c_L \\leq 4(3^{L-1}) $.\n",
    "\n",
    "Combining the two inequalities, $2^L \\leq c_L \\leq 4(3^{L-1})$.\n",
    "\n",
    "Next, consider a self-avoiding walk of length $n+m$. \n",
    "\n",
    "$c_{n+m} \\leq c_{n}c_{m}$ \n",
    "\n",
    "this is because we can create a self-avoiding random walk by continuing the $n$ length self-avoiding random walk with a length $m$ self-avoiding random walk. But we are not sure it intersects so it is bounded above by $c_{n}c_{m}$.\n",
    "\n",
    "Define $\\mu = \\lim_{L \\rightarrow \\infty} (c_L)^{\\frac{1}{L}} $.\n",
    "\n",
    "We can show the sequence $(c_L)^{\\frac{1}{L}}$ is non-increasing so it is bounded above. \n",
    "\n",
    "Consider the sequence $(c_{2^k})^{\\frac{1}{2^k}}$."
   ]
  },
  {
   "cell_type": "markdown",
   "id": "ecce5acc-1ed5-492e-b3ca-429ff346459f",
   "metadata": {},
   "source": [
    "https://personal.math.ubc.ca/~slade/intelligencer.pdf"
   ]
  },
  {
   "cell_type": "markdown",
   "id": "bb722dfd-795e-40ce-98a6-f4a6a550fcfc",
   "metadata": {},
   "source": [
    "# Basic deterministic methods"
   ]
  },
  {
   "cell_type": "code",
   "execution_count": 1,
   "id": "b2c35d94-dc42-4b39-90ba-0e59b2cd21c1",
   "metadata": {},
   "outputs": [],
   "source": [
    "def create_walk():\n",
    "    # creates a new walk\n",
    "    return set()\n",
    "\n",
    "def visit(x,y, walk):\n",
    "    # adds point (x,y) to lattice when the walk visits them\n",
    "    walk.add((x,y))\n",
    "\n",
    "def is_visited(x,y, walk):\n",
    "    # checks if the walk has visited the point (x,y)\n",
    "    return (x,y) in walk\n",
    "\n",
    "def unvisit(x,y, walk):\n",
    "    walk.remove((x,y))\n",
    "\n",
    "def recursivewalk(x, y, n, walk):\n",
    "    \"\"\"\n",
    "    x: x-coordinate of the walk\n",
    "    y: y-coordinate of the walk\n",
    "    n: number of steps left\n",
    "    walk: set containing visited points\n",
    "    \"\"\"\n",
    "    # walk is currently at (0,0)\n",
    "    visit(x,y, walk)\n",
    "    \n",
    "    if n == 0:\n",
    "        unvisit(x,y, walk)\n",
    "        return 1\n",
    "    \n",
    "    total = 0\n",
    "\n",
    "    # explores the four directions\n",
    "    for dx, dy in [(1, 0), (-1, 0), (0, -1), (0, 1)]:\n",
    "        new_x, new_y = x + dx, y + dy\n",
    "\n",
    "        # if walk hasn't visited the new points, add them\n",
    "        if not is_visited(new_x, new_y, walk):\n",
    "            # walk continues from the new point onwards with n-1 steps remaining\n",
    "            total += recursivewalk(new_x, new_y, n-1, walk)\n",
    "            \n",
    "    unvisit(x,y, walk)\n",
    "    return total"
   ]
  },
  {
   "cell_type": "code",
   "execution_count": 2,
   "id": "04416250-fff6-46eb-b79b-1da9d615a8e3",
   "metadata": {},
   "outputs": [
    {
     "data": {
      "text/plain": [
       "[4,\n",
       " 12,\n",
       " 36,\n",
       " 100,\n",
       " 284,\n",
       " 780,\n",
       " 2172,\n",
       " 5916,\n",
       " 16268,\n",
       " 44100,\n",
       " 120292,\n",
       " 324932,\n",
       " 881500,\n",
       " 2374444,\n",
       " 6416596]"
      ]
     },
     "execution_count": 2,
     "metadata": {},
     "output_type": "execute_result"
    }
   ],
   "source": [
    "# naive method to find c_L for L = 1 to L = 15\n",
    "[recursivewalk(0,0, i, create_walk()) for i in range(1, 16)]"
   ]
  },
  {
   "cell_type": "code",
   "execution_count": 3,
   "id": "86bd9aa2-43ba-4089-bf58-3d822f8078ab",
   "metadata": {},
   "outputs": [],
   "source": [
    "# def random_walk(steps):\n",
    "#     x_initial, y_initial = 0, 0\n",
    "#     random_walk = set(((x_initial, y_initial),))\n",
    "#     x_new, y_new = x_initial, y_initial\n",
    "\n",
    "#     moves = [(0,1), (0, -1), (1, 0), (-1,0)]\n",
    "#     for i in range(steps):\n",
    "#         move_num = np.random.choice(len(moves))\n",
    "#         dx, dy = moves[move_num]\n",
    "#         x_new += dx\n",
    "#         y_new += dy\n",
    "\n",
    "#         random_walk.add((x_new, y_new))\n",
    "#     return random_walk"
   ]
  },
  {
   "cell_type": "code",
   "execution_count": 4,
   "id": "f3ff9c90-7035-43f6-8021-c2c62c2a3800",
   "metadata": {},
   "outputs": [],
   "source": [
    "def random_walk(steps):\n",
    "    x_initial, y_initial = 0, 0\n",
    "    random_walk_set = set(((x_initial, y_initial),))\n",
    "    random_walk_list = list(((x_initial, y_initial),))\n",
    "    x_new, y_new = x_initial, y_initial\n",
    "\n",
    "    moves = [(0,1), (0, -1), (1, 0), (-1,0)]\n",
    "    \n",
    "    move_nums = np.random.choice(len(moves), size = steps)\n",
    "    for i in move_nums:\n",
    "        x_new += moves[i][0] # add the x-coordinate\n",
    "        y_new += moves[i][1] # add the y-coordinate\n",
    "        \n",
    "        random_walk_set.add((x_new, y_new))\n",
    "        random_walk_list.append((x_new, y_new))\n",
    "    return random_walk_set, random_walk_list"
   ]
  },
  {
   "cell_type": "code",
   "execution_count": 5,
   "id": "d781bc03-ada4-41a7-b68c-d127cdca7adb",
   "metadata": {},
   "outputs": [],
   "source": [
    "def self_avoiding_walks_proportion(L, N):\n",
    "    \"\"\"\n",
    "    L: number of steps for each random walk\n",
    "    N: number of samples\n",
    "    returns the proportion of self-avoiding random walks\n",
    "    \"\"\"\n",
    "    random_walks = list()\n",
    "    self_avoiding_walks = 0\n",
    "    for i in range(N):\n",
    "        walk_set, walk_list = random_walk(L)\n",
    "        random_walks.append(walk_list)\n",
    "        if len(walk_set) == len(walk_list):\n",
    "            self_avoiding_walks += 1\n",
    "    return self_avoiding_walks / N #, random_walks"
   ]
  },
  {
   "cell_type": "code",
   "execution_count": 6,
   "id": "d30e3dfb-5882-4678-bd7d-2da28bedbbc9",
   "metadata": {},
   "outputs": [
    {
     "ename": "NameError",
     "evalue": "name 'np' is not defined",
     "output_type": "error",
     "traceback": [
      "\u001b[31m---------------------------------------------------------------------------\u001b[39m",
      "\u001b[31mNameError\u001b[39m                                 Traceback (most recent call last)",
      "\u001b[36mCell\u001b[39m\u001b[36m \u001b[39m\u001b[32mIn[6]\u001b[39m\u001b[32m, line 1\u001b[39m\n\u001b[32m----> \u001b[39m\u001b[32m1\u001b[39m \u001b[43mrandom_walk\u001b[49m\u001b[43m(\u001b[49m\u001b[32;43m5\u001b[39;49m\u001b[43m)\u001b[49m\n",
      "\u001b[36mCell\u001b[39m\u001b[36m \u001b[39m\u001b[32mIn[4]\u001b[39m\u001b[32m, line 9\u001b[39m, in \u001b[36mrandom_walk\u001b[39m\u001b[34m(steps)\u001b[39m\n\u001b[32m      5\u001b[39m x_new, y_new = x_initial, y_initial\n\u001b[32m      7\u001b[39m moves = [(\u001b[32m0\u001b[39m,\u001b[32m1\u001b[39m), (\u001b[32m0\u001b[39m, -\u001b[32m1\u001b[39m), (\u001b[32m1\u001b[39m, \u001b[32m0\u001b[39m), (-\u001b[32m1\u001b[39m,\u001b[32m0\u001b[39m)]\n\u001b[32m----> \u001b[39m\u001b[32m9\u001b[39m move_nums = \u001b[43mnp\u001b[49m.random.choice(\u001b[38;5;28mlen\u001b[39m(moves), size = steps)\n\u001b[32m     10\u001b[39m \u001b[38;5;28;01mfor\u001b[39;00m i \u001b[38;5;129;01min\u001b[39;00m move_nums:\n\u001b[32m     11\u001b[39m     x_new += moves[i][\u001b[32m0\u001b[39m] \u001b[38;5;66;03m# add the x-coordinate\u001b[39;00m\n",
      "\u001b[31mNameError\u001b[39m: name 'np' is not defined"
     ]
    }
   ],
   "source": [
    "random_walk(5)"
   ]
  },
  {
   "cell_type": "code",
   "execution_count": null,
   "id": "c12665b4-7361-4b29-8cd2-4e5f837e4e81",
   "metadata": {
    "scrolled": true
   },
   "outputs": [],
   "source": [
    "[self_avoiding_walks_proportion(i, 100000) for i in range(16)]"
   ]
  },
  {
   "cell_type": "code",
   "execution_count": null,
   "id": "291a3e0f-7fec-40d4-bb87-4bc8a738334b",
   "metadata": {},
   "outputs": [],
   "source": [
    "def plane():\n",
    "    lattice = list()\n",
    "    return lattice\n",
    "\n",
    "def visit(x,y, lattice):\n",
    "    lattice.append((x,y))\n",
    "\n",
    "def is_visited(x,y, lattice):\n",
    "    return (x,y) in lattice\n",
    "\n",
    "def unvisit(x,y, lattice):\n",
    "    lattice.remove((x,y))\n",
    "\n",
    "def random_walk2(steps):\n",
    "    lattice = plane()\n",
    "    visit(0,0, lattice)\n",
    "    x_coord, y_coord = 0, 0 \n",
    "    \n",
    "    q_x = 1\n",
    "    \n",
    "    for i in range(steps):\n",
    "        possible_negibours = []\n",
    "        for dx, dy in [(1, 0), (-1, 0), (0, -1), (0, 1)]:\n",
    "            if not is_visited(x_coord + dx, y_coord + dy, lattice):\n",
    "                possible_negibours.append((x_coord + dx, y_coord + dy))\n",
    "\n",
    "        if len(possible_negibours) == 0:\n",
    "            q_x = q_x * 0\n",
    "            break\n",
    "\n",
    "        else:\n",
    "            move = np.random.choice(len(possible_negibours))\n",
    "            x_coord = possible_negibours[move][0]\n",
    "            y_coord = possible_negibours[move][1]\n",
    "            visit(x_coord, y_coord, lattice)\n",
    "            q_x = q_x * (1/ len(possible_negibours))\n",
    "    return lattice, len(lattice), q_x"
   ]
  },
  {
   "cell_type": "code",
   "execution_count": null,
   "id": "c7feb376-33b5-43ab-82bf-a2be6de03e3d",
   "metadata": {},
   "outputs": [],
   "source": [
    "def is_self_avoiding_random_walk(walk, steps):\n",
    "    return len(walk) == (steps + 1)"
   ]
  },
  {
   "cell_type": "code",
   "execution_count": null,
   "id": "3e5fe3ab-89c2-449b-be32-2c068562ef63",
   "metadata": {},
   "outputs": [],
   "source": [
    "def connective_constant(size, steps):\n",
    "    samples = [random_walk2(steps) for _ in range(size)]\n",
    "    walks = [x[0] for x in samples]\n",
    "    \n",
    "    len_walks = np.array([x[1] for x in samples])\n",
    "    # only consider walks of length steps, which would have (steps + 1) elements\n",
    "    len_walks = len_walks[len_walks == (steps + 1)]\n",
    "    \n",
    "    q_xs = np.array([x[2] for x in samples])\n",
    "    # use only q_x which is not 0, to avoid dividing by 0\n",
    "    q_xs = q_xs[q_xs != 0]\n",
    "\n",
    "    # target density, p_x\n",
    "    p_xs = (1/4)**(steps)\n",
    "    \n",
    "    # unnormalised ratios\n",
    "    ru_s = p_xs / q_xs\n",
    "    # normalised weights\n",
    "    # ws = ru_s / np.sum(ru_s)\n",
    "    \n",
    "    # value of c_steps\n",
    "    c_L = (4**steps) * np.mean( 1 * (ru_s))\n",
    "    # c_L2 = (4**steps) * np.sum( 1 * (ws))\n",
    "    # ess = 1/ np.sum(ws**2)\n",
    "    return c_L"
   ]
  },
  {
   "cell_type": "code",
   "execution_count": null,
   "id": "750b75c6-9f12-4462-beee-d3f5c025c65b",
   "metadata": {},
   "outputs": [],
   "source": [
    "vals = [connective_constant(size = 10**5, steps = i) for i in range(1, 16)]"
   ]
  },
  {
   "cell_type": "code",
   "execution_count": null,
   "id": "1aa4a693-0d87-488d-8c6a-ccaf0ec58a98",
   "metadata": {},
   "outputs": [],
   "source": [
    "vals_mc2 = np.array(vals)"
   ]
  },
  {
   "cell_type": "code",
   "execution_count": null,
   "id": "28e8b1eb-1bc6-494a-a60a-dd41ba60f1d7",
   "metadata": {},
   "outputs": [],
   "source": [
    "vals_mc2"
   ]
  },
  {
   "cell_type": "code",
   "execution_count": null,
   "id": "e47e96e1-b38f-4e41-884b-571a5f0b5c45",
   "metadata": {},
   "outputs": [],
   "source": [
    "vals_mc2_20_25 = [connective_constant(size = 10**5, steps = i) for i in range(20, 26, 1)]"
   ]
  },
  {
   "cell_type": "code",
   "execution_count": null,
   "id": "f17dd8fe-e4d5-4ec3-aa7f-687510921a23",
   "metadata": {},
   "outputs": [],
   "source": [
    "vals_mc2_20_25"
   ]
  },
  {
   "cell_type": "code",
   "execution_count": null,
   "id": "a86c3832-af1b-465f-b913-07803b7200d7",
   "metadata": {},
   "outputs": [],
   "source": [
    "connective_constant(size = 10**6, steps = 10)"
   ]
  },
  {
   "cell_type": "code",
   "execution_count": null,
   "id": "44b3b791-4ea0-467b-b6ff-69be47bfb0fd",
   "metadata": {},
   "outputs": [],
   "source": [
    "# 51 seconds"
   ]
  },
  {
   "cell_type": "code",
   "execution_count": null,
   "id": "e2263c1f-52c3-4b30-a2c3-1d5c052ac026",
   "metadata": {},
   "outputs": [],
   "source": [
    "[connective_constant(size = 10**6, steps = _) for _ in range(10, 16)]"
   ]
  },
  {
   "cell_type": "code",
   "execution_count": null,
   "id": "3d078e5c-bc0c-4af7-945a-bc81ac248f02",
   "metadata": {},
   "outputs": [],
   "source": [
    "# 377 seconds for above"
   ]
  },
  {
   "cell_type": "code",
   "execution_count": null,
   "id": "d0b15609-473b-4c31-ae46-06ab8ce4ddaa",
   "metadata": {},
   "outputs": [],
   "source": []
  }
 ],
 "metadata": {
  "kernelspec": {
   "display_name": "Python 3 (ipykernel)",
   "language": "python",
   "name": "python3"
  },
  "language_info": {
   "codemirror_mode": {
    "name": "ipython",
    "version": 3
   },
   "file_extension": ".py",
   "mimetype": "text/x-python",
   "name": "python",
   "nbconvert_exporter": "python",
   "pygments_lexer": "ipython3",
   "version": "3.12.4"
  }
 },
 "nbformat": 4,
 "nbformat_minor": 5
}
