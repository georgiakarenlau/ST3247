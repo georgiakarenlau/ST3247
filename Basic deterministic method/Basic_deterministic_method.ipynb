{
 "cells": [
  {
   "cell_type": "markdown",
   "id": "bb722dfd-795e-40ce-98a6-f4a6a550fcfc",
   "metadata": {},
   "source": [
    "# Basic deterministic methods"
   ]
  },
  {
   "cell_type": "code",
   "execution_count": 1,
   "id": "b2c35d94-dc42-4b39-90ba-0e59b2cd21c1",
   "metadata": {},
   "outputs": [],
   "source": [
    "def create_walk():\n",
    "    # creates a new walk\n",
    "    return set()\n",
    "\n",
    "def visit(x,y, walk):\n",
    "    # adds point (x,y) to lattice when the walk visits them\n",
    "    walk.add((x,y))\n",
    "\n",
    "def is_visited(x,y, walk):\n",
    "    # checks if the walk has visited the point (x,y)\n",
    "    return (x,y) in walk\n",
    "\n",
    "def unvisit(x,y, walk):\n",
    "    walk.remove((x,y))\n",
    "\n",
    "def recursivewalk(x, y, n, walk):\n",
    "    \"\"\"\n",
    "    x: x-coordinate of the walk\n",
    "    y: y-coordinate of the walk\n",
    "    n: number of steps left\n",
    "    walk: set containing visited points\n",
    "    \"\"\"\n",
    "    # walk is currently at (0,0)\n",
    "    visit(x,y, walk)\n",
    "    \n",
    "    if n == 0:\n",
    "        unvisit(x,y, walk)\n",
    "        return 1\n",
    "    \n",
    "    total = 0\n",
    "\n",
    "    # explores the four directions\n",
    "    for dx, dy in [(1, 0), (-1, 0), (0, -1), (0, 1)]:\n",
    "        new_x, new_y = x + dx, y + dy\n",
    "\n",
    "        # if walk hasn't visited the new points, add them\n",
    "        if not is_visited(new_x, new_y, walk):\n",
    "            # walk continues from the new point onwards with n-1 steps remaining\n",
    "            total += recursivewalk(new_x, new_y, n-1, walk)\n",
    "            \n",
    "    unvisit(x,y, walk)\n",
    "    return total"
   ]
  },
  {
   "cell_type": "code",
   "execution_count": 2,
   "id": "04416250-fff6-46eb-b79b-1da9d615a8e3",
   "metadata": {},
   "outputs": [
    {
     "data": {
      "text/plain": [
       "[4,\n",
       " 12,\n",
       " 36,\n",
       " 100,\n",
       " 284,\n",
       " 780,\n",
       " 2172,\n",
       " 5916,\n",
       " 16268,\n",
       " 44100,\n",
       " 120292,\n",
       " 324932,\n",
       " 881500,\n",
       " 2374444,\n",
       " 6416596]"
      ]
     },
     "execution_count": 2,
     "metadata": {},
     "output_type": "execute_result"
    }
   ],
   "source": [
    "# naive method to find c_L for L = 1 to L = 15\n",
    "[recursivewalk(0,0, i, create_walk()) for i in range(1, 16)]"
   ]
  }
 ],
 "metadata": {
  "kernelspec": {
   "display_name": "Python 3 (ipykernel)",
   "language": "python",
   "name": "python3"
  },
  "language_info": {
   "codemirror_mode": {
    "name": "ipython",
    "version": 3
   },
   "file_extension": ".py",
   "mimetype": "text/x-python",
   "name": "python",
   "nbconvert_exporter": "python",
   "pygments_lexer": "ipython3",
   "version": "3.12.4"
  }
 },
 "nbformat": 4,
 "nbformat_minor": 5
}
