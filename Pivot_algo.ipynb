{
 "cells": [
  {
   "cell_type": "code",
   "execution_count": 1,
   "id": "be388c82",
   "metadata": {},
   "outputs": [],
   "source": [
    "import numpy as np\n",
    "import random\n",
    "from collections import Counter"
   ]
  },
  {
   "cell_type": "code",
   "execution_count": 2,
   "id": "8232a015",
   "metadata": {},
   "outputs": [],
   "source": [
    "# Directions on 2d Lattice\n",
    "DIRECTIONS = [(1, 0), (0, 1), (-1, 0), (0, -1)]\n",
    "\n",
    "def get_neighbors(pos):\n",
    "    return [(pos[0] + dx, pos[1] + dy) for dx, dy in DIRECTIONS]\n",
    "\n",
    "def valid_moves(walk):\n",
    "    last = walk[-1]\n",
    "    visited = set(walk)\n",
    "    return [nbr for nbr in get_neighbors(last) if nbr not in visited]"
   ]
  },
  {
   "cell_type": "code",
   "execution_count": 3,
   "id": "c11b15cd",
   "metadata": {},
   "outputs": [],
   "source": [
    "def initialize_walks(N):\n",
    "    # Each walk starts at the origin (0, 0) and makes one ranomd step\n",
    "    walks = []\n",
    "    for _ in range(N):\n",
    "        start = (0, 0)\n",
    "        step = random.choice(DIRECTIONS)\n",
    "        walks.append([start, (start[0] + step[0], start[1] + step[1])])\n",
    "    return walks\n",
    "\n",
    "def extend_walks(walks):\n",
    "    new_walks = []\n",
    "    weights = []\n",
    "    for walk in walks:\n",
    "        moves = valid_moves(walk=walk)\n",
    "        k = len(moves)\n",
    "        if k == 0:\n",
    "            weights.append(0)\n",
    "            new_walks.append(walk)\n",
    "        else:\n",
    "            step = random.choice(moves)\n",
    "            new_walk = walk + [step]\n",
    "            weights.append(k)\n",
    "            new_walks.append(new_walk)\n",
    "    return new_walks, weights\n"
   ]
  },
  {
   "cell_type": "code",
   "execution_count": 4,
   "id": "b1885978",
   "metadata": {},
   "outputs": [],
   "source": [
    "import numpy as np\n",
    "\n",
    "TRANSFORMATIONS = np.array([\n",
    "    [[0, -1], [1, 0]],     # 90° Rotation\n",
    "    [[-1, 0], [0, -1]],    # 180° Rotation\n",
    "    [[0, 1], [-1, 0]],     # 270° Rotation\n",
    "    [[1, 0], [0, -1]],     # Reflection x-axis\n",
    "    [[-1, 0], [0, 1]],     # Reflection y-axis\n",
    "    [[0, 1], [1, 0]],      # Reflection x=y\n",
    "    [[0, -1], [-1, 0]],    # Reflection x=-y\n",
    "], dtype=np.float64)\n",
    "\n",
    "def initialize_saws(L):\n",
    "    saws = np.zeros((4, L+1, 2), dtype=np.float64)\n",
    "    for i in range(L+1):\n",
    "        saws[0, i] = [0, i]     # Up\n",
    "        saws[1, i] = [0, -i]    # Down\n",
    "        saws[2, i] = [i, 0]     # Right\n",
    "        saws[3, i] = [-i, 0]    # Left\n",
    "    return saws\n",
    "\n",
    "def apply_transformation(walk, pivot_index, transformation_matrix):\n",
    "    new_walk = walk.copy()\n",
    "    pivot_point = walk[pivot_index]\n",
    "    for i in range(pivot_index + 1, len(walk)):\n",
    "        rel = walk[i] - pivot_point\n",
    "        new_walk[i] = transformation_matrix @ rel + pivot_point\n",
    "    return new_walk\n",
    "\n",
    "def check_self_avoidance(walk):\n",
    "    seen = set()\n",
    "    for point in walk:\n",
    "        key = (int(point[0]), int(point[1]))\n",
    "        if key in seen:\n",
    "            return False\n",
    "        seen.add(key)\n",
    "    return True\n",
    "\n",
    "def monte_carlo_parallel(num_samples, L):\n",
    "    saws = initialize_saws(L)\n",
    "    samples = np.zeros((num_samples, L+1, 2), dtype=np.float64)\n",
    "\n",
    "    per_chain = num_samples // 4\n",
    "\n",
    "    for chain in range(4):\n",
    "        current_walk = saws[chain].copy()\n",
    "        count = 0\n",
    "        index_base = chain * per_chain\n",
    "\n",
    "        samples[index_base + count] = current_walk\n",
    "        count += 1\n",
    "\n",
    "        while count < per_chain:\n",
    "            pivot = np.random.randint(1, L)\n",
    "            t_idx = np.random.randint(0, len(TRANSFORMATIONS))\n",
    "            T = TRANSFORMATIONS[t_idx]\n",
    "            transformed_walk = apply_transformation(current_walk, pivot, T)\n",
    "\n",
    "            if check_self_avoidance(transformed_walk):\n",
    "                current_walk = transformed_walk\n",
    "                samples[index_base + count] = current_walk\n",
    "                count += 1\n",
    "\n",
    "    return samples\n"
   ]
  },
  {
   "cell_type": "code",
   "execution_count": 5,
   "id": "56f51a1b",
   "metadata": {},
   "outputs": [],
   "source": [
    "def resample(walks, weights):\n",
    "    total_weight = sum(weights)\n",
    "    if total_weight == 0:\n",
    "        raise ValueError(\"Walks error: all weights are zero\")\n",
    "    probabilities = [weight / total_weight for weight in weights]\n",
    "    indices = np.random.choice(len(walks), size=len(walks), p=probabilities)\n",
    "    resampled_walks = [walks[i] for i in indices]\n",
    "    return resampled_walks\n",
    "\n",
    "def smc_saw(N=1000, max_len = 20):\n",
    "    walks = initialize_walks(N=N)\n",
    "    logZ = 0 # log partition function, for estimating mu\n",
    "\n",
    "    for L in range(2, max_len+ 1):\n",
    "        walks, weights = extend_walks(walks=walks)\n",
    "        avg_weight = np.mean(weights)\n",
    "        logZ += np.log(avg_weight)\n",
    "        walks = resample(walks=walks, weights=weights)\n",
    "        print(f\"Length {L}: avg weight = {avg_weight:.4f}\")\n",
    "\n",
    "    mu_est = np.exp(logZ / (max_len -1))\n",
    "    print(f\"Estimated mu: {mu_est:.4f}\")\n",
    "    return mu_est"
   ]
  },
  {
   "cell_type": "code",
   "execution_count": null,
   "id": "5b2160b0",
   "metadata": {},
   "outputs": [],
   "source": [
    "smc_saw(N=1000, max_len=1000)"
   ]
  },
  {
   "cell_type": "markdown",
   "id": "6ee77595",
   "metadata": {},
   "source": [
    "# SMC with Pivot Algo"
   ]
  },
  {
   "cell_type": "code",
   "execution_count": 14,
   "id": "75646531",
   "metadata": {},
   "outputs": [],
   "source": [
    "import numpy as np\n",
    "from numba import njit\n",
    "from collections import defaultdict\n",
    "from tqdm import tqdm\n",
    "\n",
    "# Define directions (up, down, left, right)\n",
    "DIRS = np.array([[1, 0], [-1, 0], [0, 1], [0, -1]], dtype=np.int32)\n",
    "\n",
    "# Define transformation matrices\n",
    "TRANSFORMATIONS = [\n",
    "    np.array([[0, -1], [1, 0]], dtype=np.int32),    # 90° rotation\n",
    "    np.array([[-1, 0], [0, -1]], dtype=np.int32),   # 180° rotation\n",
    "    np.array([[0, 1], [-1, 0]], dtype=np.int32),    # 270° rotation\n",
    "    np.array([[1, 0], [0, -1]], dtype=np.int32),    # Horizontal flip\n",
    "    np.array([[-1, 0], [0, 1]], dtype=np.int32),    # Vertical flip\n",
    "    np.array([[0, 1], [1, 0]], dtype=np.int32),     # Diagonal flip\n",
    "    np.array([[0, -1], [-1, 0]], dtype=np.int32),   # Anti-diagonal flip\n",
    "]\n",
    "\n",
    "@njit\n",
    "def check_self_avoidance_numba(walk):\n",
    "    \"\"\"Numba-accelerated self-avoidance check\"\"\"\n",
    "    seen = set()\n",
    "    for i in range(len(walk)):\n",
    "        key = (walk[i,0], walk[i,1])\n",
    "        if key in seen:\n",
    "            return False\n",
    "        seen.add(key)\n",
    "    return True\n",
    "\n",
    "@njit\n",
    "def apply_transformation_numba(walk, pivot_idx, T):\n",
    "    \"\"\"Numba-compatible transformation application using dot product\"\"\"\n",
    "    new_walk = walk.copy()\n",
    "    pivot = walk[pivot_idx]\n",
    "    for i in range(pivot_idx + 1, len(walk)):\n",
    "        rel = walk[i] - pivot\n",
    "        transformed = np.empty(2, dtype=np.int32)\n",
    "        transformed[0] = T[0, 0] * rel[0] + T[0, 1] * rel[1]\n",
    "        transformed[1] = T[1, 0] * rel[0] + T[1, 1] * rel[1]\n",
    "        new_walk[i] = transformed + pivot\n",
    "    return new_walk\n",
    "\n",
    "\n",
    "def optimized_smc(N, max_len):\n",
    "    # Initialize with pre-allocated arrays\n",
    "    walks = [np.zeros((max_len, 2), dtype=np.int32) for _ in range(N)]\n",
    "    for w in walks:\n",
    "        w[:2] = [[0, 0], [0, 1]]  # Initial two steps\n",
    "    \n",
    "    logZ = 0\n",
    "    avg_weights = []\n",
    "    \n",
    "    # Convert transformations to numpy array for numba compatibility\n",
    "    TRANSFORMATIONS_np = np.array(TRANSFORMATIONS)\n",
    "    \n",
    "    for L in tqdm(range(2, max_len + 1), desc=\"Running SMC\"):\n",
    "        # Track active walks (non-trapped)\n",
    "        active_indices = []\n",
    "        weights = np.zeros(N)\n",
    "        \n",
    "        # Step 1: Extension\n",
    "        for i in range(N):\n",
    "            current = walks[i][:L]\n",
    "            last_pos = current[-1]\n",
    "            \n",
    "            # Generate all possible moves\n",
    "            neighbors = last_pos + DIRS\n",
    "            valid_mask = np.ones(4, dtype=bool)\n",
    "            \n",
    "            # Fast collision check\n",
    "            for j in range(4):\n",
    "                n = neighbors[j]\n",
    "                for k in range(L):\n",
    "                    if n[0] == current[k,0] and n[1] == current[k,1]:\n",
    "                        valid_mask[j] = False\n",
    "                        break\n",
    "            \n",
    "            valid_count = np.sum(valid_mask)\n",
    "            if valid_count > 0:\n",
    "                # Choose random valid move\n",
    "                valid_idx = np.where(valid_mask)[0]\n",
    "                chosen = np.random.choice(valid_idx)\n",
    "                walks[i][L] = neighbors[chosen]\n",
    "                weights[i] = valid_count\n",
    "                active_indices.append(i)\n",
    "        \n",
    "        # Check for complete trapping\n",
    "        if len(active_indices) == 0:\n",
    "            print(f\"All walks trapped at L={L}, resetting\")\n",
    "            walks = [np.zeros((max_len + 1, 2), dtype=np.int32) for _ in range(N)]\n",
    "            for w in walks:\n",
    "                w[:2] = [[0, 0], [0, 1]]\n",
    "            continue\n",
    "        \n",
    "        # Step 2: Resampling\n",
    "        avg_weight = np.mean(weights[weights > 0])\n",
    "        avg_weights.append(avg_weight)\n",
    "        logZ += np.log(avg_weight)\n",
    "        \n",
    "        probs = weights / weights.sum()\n",
    "        new_indices = np.random.choice(N, size=N, p=probs)\n",
    "        new_walks = [walks[i].copy() for i in new_indices]\n",
    "        walks = new_walks\n",
    "        \n",
    "        # Step 3: Pivot mutations (every 20 steps)\n",
    "        if L % 20 == 0 and L > 10:\n",
    "            for i in range(N):\n",
    "                if np.random.rand() < 0.3:  # Only mutate 30% of walks\n",
    "                    pivot_idx = np.random.randint(1, L-1)\n",
    "                    T = TRANSFORMATIONS_np[np.random.randint(len(TRANSFORMATIONS_np))]\n",
    "                    mutated = apply_transformation_numba(walks[i][:L+1], pivot_idx, T)\n",
    "                    if check_self_avoidance_numba(mutated):\n",
    "                        walks[i][:L+1] = mutated\n",
    "        \n",
    "        # Step 4: Diversity maintenance (every 50 steps)\n",
    "        if L % 50 == 0:\n",
    "            unique_walks = {}\n",
    "            for w in walks:\n",
    "                key = w[:L+1].tobytes()\n",
    "                if key not in unique_walks:\n",
    "                    unique_walks[key] = w[:L+1].copy()\n",
    "            \n",
    "            # If diversity is low, generate new variants\n",
    "            attempts = 0\n",
    "            max_attempts = 1000  # or scale with L\n",
    "            while len(unique_walks) < N//2 and len(unique_walks) > 0 and attempts < max_attempts:\n",
    "                for w in list(unique_walks.values()):\n",
    "                    pivot_idx = np.random.randint(1, L - 1)\n",
    "                    T = TRANSFORMATIONS_np[np.random.randint(len(TRANSFORMATIONS_np))]\n",
    "                    mutated = apply_transformation_numba(w, pivot_idx, T)\n",
    "                    if check_self_avoidance_numba(mutated):\n",
    "                        unique_walks[mutated.tobytes()] = mutated\n",
    "                    attempts += 1\n",
    "                    if len(unique_walks) >= N//2 or attempts >= max_attempts:\n",
    "                        break\n",
    "\n",
    "            \n",
    "           # Update population\n",
    "            new_walks = []\n",
    "            for w in unique_walks.values():\n",
    "                padded = np.zeros((max_len + 1, 2), dtype=np.int32)\n",
    "                padded[:L+1] = w\n",
    "                new_walks.append(padded)\n",
    "\n",
    "            # Pad to N walks\n",
    "            num_missing = N - len(new_walks)\n",
    "            for _ in range(num_missing):\n",
    "                w = np.zeros((max_len + 1, 2), dtype=np.int32)\n",
    "                w[:2] = [[0, 0], [0, 1]]\n",
    "                new_walks.append(w)\n",
    "\n",
    "            walks = new_walks  # Now walks has exactly N elements\n",
    "\n",
    "        # Progress reporting\n",
    "        if L % 100 == 0:\n",
    "            unique_count = len(set(w.tobytes() for w in walks))\n",
    "            print(f\"L={L}: μ={np.exp(logZ/(L-1)):.4f} | Unique={unique_count}/{N}\")\n",
    "\n",
    "    return np.exp(logZ/(max_len-1)), avg_weights"
   ]
  },
  {
   "cell_type": "code",
   "execution_count": 15,
   "id": "c1b89332",
   "metadata": {},
   "outputs": [
    {
     "name": "stderr",
     "output_type": "stream",
     "text": [
      "Running SMC:   0%|          | 0/999 [00:00<?, ?it/s]"
     ]
    },
    {
     "name": "stderr",
     "output_type": "stream",
     "text": [
      "Running SMC:  10%|█         | 101/999 [00:06<01:15, 11.91it/s]"
     ]
    },
    {
     "name": "stdout",
     "output_type": "stream",
     "text": [
      "L=100: μ=2.7053 | Unique=560/1000\n"
     ]
    },
    {
     "name": "stderr",
     "output_type": "stream",
     "text": [
      "Running SMC:  20%|██        | 200/999 [00:18<01:58,  6.75it/s]"
     ]
    },
    {
     "name": "stdout",
     "output_type": "stream",
     "text": [
      "L=200: μ=2.6998 | Unique=524/1000\n"
     ]
    },
    {
     "name": "stderr",
     "output_type": "stream",
     "text": [
      "Running SMC:  30%|██▉       | 299/999 [00:36<02:37,  4.43it/s]"
     ]
    },
    {
     "name": "stdout",
     "output_type": "stream",
     "text": [
      "L=300: μ=2.6985 | Unique=512/1000\n"
     ]
    },
    {
     "name": "stderr",
     "output_type": "stream",
     "text": [
      "Running SMC:  40%|███▉      | 399/999 [01:02<02:51,  3.49it/s]"
     ]
    },
    {
     "name": "stdout",
     "output_type": "stream",
     "text": [
      "L=400: μ=2.6984 | Unique=509/1000\n"
     ]
    },
    {
     "name": "stderr",
     "output_type": "stream",
     "text": [
      "Running SMC:  50%|████▉     | 499/999 [01:35<03:03,  2.73it/s]"
     ]
    },
    {
     "name": "stdout",
     "output_type": "stream",
     "text": [
      "L=500: μ=2.6982 | Unique=505/1000\n"
     ]
    },
    {
     "name": "stderr",
     "output_type": "stream",
     "text": [
      "Running SMC:  60%|█████▉    | 599/999 [02:17<03:02,  2.19it/s]"
     ]
    },
    {
     "name": "stdout",
     "output_type": "stream",
     "text": [
      "L=600: μ=2.6983 | Unique=527/1000\n"
     ]
    },
    {
     "name": "stderr",
     "output_type": "stream",
     "text": [
      "Running SMC:  70%|██████▉   | 699/999 [03:06<02:42,  1.85it/s]"
     ]
    },
    {
     "name": "stdout",
     "output_type": "stream",
     "text": [
      "L=700: μ=2.6982 | Unique=488/1000\n"
     ]
    },
    {
     "name": "stderr",
     "output_type": "stream",
     "text": [
      "Running SMC:  80%|███████▉  | 799/999 [04:02<01:59,  1.67it/s]"
     ]
    },
    {
     "name": "stdout",
     "output_type": "stream",
     "text": [
      "L=800: μ=2.6968 | Unique=524/1000\n"
     ]
    },
    {
     "name": "stderr",
     "output_type": "stream",
     "text": [
      "Running SMC:  90%|████████▉ | 899/999 [05:06<01:05,  1.52it/s]"
     ]
    },
    {
     "name": "stdout",
     "output_type": "stream",
     "text": [
      "L=900: μ=2.6975 | Unique=508/1000\n"
     ]
    },
    {
     "name": "stderr",
     "output_type": "stream",
     "text": [
      "Running SMC: 100%|██████████| 999/999 [06:16<00:00,  2.65it/s]"
     ]
    },
    {
     "name": "stdout",
     "output_type": "stream",
     "text": [
      "L=1000: μ=2.6976 | Unique=515/1000\n"
     ]
    },
    {
     "name": "stderr",
     "output_type": "stream",
     "text": [
      "\n"
     ]
    },
    {
     "data": {
      "image/png": "[encoded data removed]",
      "text/plain": [
       "<Figure size 640x480 with 1 Axes>"
      ]
     },
     "metadata": {},
     "output_type": "display_data"
    }
   ],
   "source": [
    "import matplotlib.pyplot as plt\n",
    "\n",
    "# Run with N=1000, max_len=1000\n",
    "mu_est, avg_weights = optimized_smc(N=1000, max_len=1000)\n",
    "\n",
    "# Plot results\n",
    "import matplotlib.pyplot as plt\n",
    "plt.plot(np.exp(np.cumsum(np.log(avg_weights)) / np.arange(2, len(avg_weights)+2)))\n",
    "plt.axhline(y=2.638, color='r', linestyle='--')\n",
    "plt.xlabel('Walk Length (L)')\n",
    "plt.ylabel('Estimated μ')\n",
    "plt.title('SAW Growth Constant Estimation')\n",
    "plt.grid(True)\n",
    "plt.show()"
   ]
  },
  {
   "cell_type": "code",
   "execution_count": null,
   "id": "f8b29882",
   "metadata": {},
   "outputs": [],
   "source": []
  }
 ],
 "metadata": {
  "kernelspec": {
   "display_name": "Python 3",
   "language": "python",
   "name": "python3"
  },
  "language_info": {
   "codemirror_mode": {
    "name": "ipython",
    "version": 3
   },
   "file_extension": ".py",
   "mimetype": "text/x-python",
   "name": "python",
   "nbconvert_exporter": "python",
   "pygments_lexer": "ipython3",
   "version": "3.12.4"
  }
 },
 "nbformat": 4,
 "nbformat_minor": 5
}
